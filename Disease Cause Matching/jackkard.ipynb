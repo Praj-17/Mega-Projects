{
 "cells": [
  {
   "cell_type": "markdown",
   "metadata": {},
   "source": [
    "# Cause Matching "
   ]
  },
  {
   "cell_type": "markdown",
   "metadata": {},
   "source": [
    "## Data Preprocessing and Analysis"
   ]
  },
  {
   "cell_type": "code",
   "execution_count": 135,
   "metadata": {},
   "outputs": [],
   "source": [
    "import pandas as pd\n",
    "data = pd.read_csv('Study Title REV with Sample.csv')"
   ]
  },
  {
   "cell_type": "code",
   "execution_count": 136,
   "metadata": {},
   "outputs": [
    {
     "data": {
      "text/html": [
       "<div>\n",
       "<style scoped>\n",
       "    .dataframe tbody tr th:only-of-type {\n",
       "        vertical-align: middle;\n",
       "    }\n",
       "\n",
       "    .dataframe tbody tr th {\n",
       "        vertical-align: top;\n",
       "    }\n",
       "\n",
       "    .dataframe thead th {\n",
       "        text-align: right;\n",
       "    }\n",
       "</style>\n",
       "<table border=\"1\" class=\"dataframe\">\n",
       "  <thead>\n",
       "    <tr style=\"text-align: right;\">\n",
       "      <th></th>\n",
       "      <th>Public Title of Study</th>\n",
       "      <th>Cause1</th>\n",
       "      <th>Cause1 % Match</th>\n",
       "      <th>Cause2</th>\n",
       "      <th>Cause2 % Match</th>\n",
       "      <th>Cause3</th>\n",
       "      <th>Cause3 % Match</th>\n",
       "      <th>Cause4</th>\n",
       "      <th>Cause4 % Match</th>\n",
       "      <th>Cause5</th>\n",
       "      <th>Cause5 % Match</th>\n",
       "      <th>Cause6</th>\n",
       "      <th>Cause6 % Match</th>\n",
       "      <th>Cause7</th>\n",
       "      <th>Cause7 % Match</th>\n",
       "      <th>Cause 'n'</th>\n",
       "      <th>Cause 'n' % Match</th>\n",
       "      <th>Unnamed: 17</th>\n",
       "      <th>List of Causes</th>\n",
       "    </tr>\n",
       "  </thead>\n",
       "  <tbody>\n",
       "    <tr>\n",
       "      <th>0</th>\n",
       "      <td>Study on complications of diabetes and risk of...</td>\n",
       "      <td>Diabetes and kidney diseases</td>\n",
       "      <td>xx% string match</td>\n",
       "      <td>Diabetes mellitus</td>\n",
       "      <td>xx% string match</td>\n",
       "      <td>Congenital heart anomalies</td>\n",
       "      <td>xx% string match</td>\n",
       "      <td>Hypertensive heart disease</td>\n",
       "      <td>xx% string match</td>\n",
       "      <td>Ischemic heart disease</td>\n",
       "      <td>xx% string match</td>\n",
       "      <td>Non-rheumatic valvular heart disease</td>\n",
       "      <td>xx% string match</td>\n",
       "      <td>Rheumatic heart disease</td>\n",
       "      <td>xx% string match</td>\n",
       "      <td>NaN</td>\n",
       "      <td>NaN</td>\n",
       "      <td>NaN</td>\n",
       "      <td>Acne vulgaris</td>\n",
       "    </tr>\n",
       "    <tr>\n",
       "      <th>1</th>\n",
       "      <td>Quality and outcomes in global cancer surgery.</td>\n",
       "      <td>Bladder cancer</td>\n",
       "      <td>xx% string match</td>\n",
       "      <td>Brain and central nervous system cancer</td>\n",
       "      <td>xx% string match</td>\n",
       "      <td>Breast cancer</td>\n",
       "      <td>xx% string match</td>\n",
       "      <td>Cervical cancer</td>\n",
       "      <td>xx% string match</td>\n",
       "      <td>Colon and rectum cancer</td>\n",
       "      <td>xx% string match</td>\n",
       "      <td>NaN</td>\n",
       "      <td>NaN</td>\n",
       "      <td>NaN</td>\n",
       "      <td>NaN</td>\n",
       "      <td>NaN</td>\n",
       "      <td>NaN</td>\n",
       "      <td>NaN</td>\n",
       "      <td>Acute hepatitis</td>\n",
       "    </tr>\n",
       "    <tr>\n",
       "      <th>2</th>\n",
       "      <td>NaN</td>\n",
       "      <td>NaN</td>\n",
       "      <td>NaN</td>\n",
       "      <td>NaN</td>\n",
       "      <td>NaN</td>\n",
       "      <td>NaN</td>\n",
       "      <td>NaN</td>\n",
       "      <td>NaN</td>\n",
       "      <td>NaN</td>\n",
       "      <td>NaN</td>\n",
       "      <td>NaN</td>\n",
       "      <td>NaN</td>\n",
       "      <td>NaN</td>\n",
       "      <td>NaN</td>\n",
       "      <td>NaN</td>\n",
       "      <td>NaN</td>\n",
       "      <td>NaN</td>\n",
       "      <td>NaN</td>\n",
       "      <td>Acute lymphoid leukemia</td>\n",
       "    </tr>\n",
       "    <tr>\n",
       "      <th>3</th>\n",
       "      <td>Study of Efficacy and Safety of Two Secukinuma...</td>\n",
       "      <td>NaN</td>\n",
       "      <td>NaN</td>\n",
       "      <td>NaN</td>\n",
       "      <td>NaN</td>\n",
       "      <td>NaN</td>\n",
       "      <td>NaN</td>\n",
       "      <td>NaN</td>\n",
       "      <td>NaN</td>\n",
       "      <td>NaN</td>\n",
       "      <td>NaN</td>\n",
       "      <td>NaN</td>\n",
       "      <td>NaN</td>\n",
       "      <td>NaN</td>\n",
       "      <td>NaN</td>\n",
       "      <td>NaN</td>\n",
       "      <td>NaN</td>\n",
       "      <td>NaN</td>\n",
       "      <td>Acute myeloid leukemia</td>\n",
       "    </tr>\n",
       "    <tr>\n",
       "      <th>4</th>\n",
       "      <td>Amroid tablets and ointments in Piles</td>\n",
       "      <td>NaN</td>\n",
       "      <td>NaN</td>\n",
       "      <td>NaN</td>\n",
       "      <td>NaN</td>\n",
       "      <td>NaN</td>\n",
       "      <td>NaN</td>\n",
       "      <td>NaN</td>\n",
       "      <td>NaN</td>\n",
       "      <td>NaN</td>\n",
       "      <td>NaN</td>\n",
       "      <td>NaN</td>\n",
       "      <td>NaN</td>\n",
       "      <td>NaN</td>\n",
       "      <td>NaN</td>\n",
       "      <td>NaN</td>\n",
       "      <td>NaN</td>\n",
       "      <td>NaN</td>\n",
       "      <td>Age-related and other hearing loss</td>\n",
       "    </tr>\n",
       "    <tr>\n",
       "      <th>...</th>\n",
       "      <td>...</td>\n",
       "      <td>...</td>\n",
       "      <td>...</td>\n",
       "      <td>...</td>\n",
       "      <td>...</td>\n",
       "      <td>...</td>\n",
       "      <td>...</td>\n",
       "      <td>...</td>\n",
       "      <td>...</td>\n",
       "      <td>...</td>\n",
       "      <td>...</td>\n",
       "      <td>...</td>\n",
       "      <td>...</td>\n",
       "      <td>...</td>\n",
       "      <td>...</td>\n",
       "      <td>...</td>\n",
       "      <td>...</td>\n",
       "      <td>...</td>\n",
       "      <td>...</td>\n",
       "    </tr>\n",
       "    <tr>\n",
       "      <th>325</th>\n",
       "      <td>A questionnaire based validation study in pati...</td>\n",
       "      <td>NaN</td>\n",
       "      <td>NaN</td>\n",
       "      <td>NaN</td>\n",
       "      <td>NaN</td>\n",
       "      <td>NaN</td>\n",
       "      <td>NaN</td>\n",
       "      <td>NaN</td>\n",
       "      <td>NaN</td>\n",
       "      <td>NaN</td>\n",
       "      <td>NaN</td>\n",
       "      <td>NaN</td>\n",
       "      <td>NaN</td>\n",
       "      <td>NaN</td>\n",
       "      <td>NaN</td>\n",
       "      <td>NaN</td>\n",
       "      <td>NaN</td>\n",
       "      <td>NaN</td>\n",
       "      <td>NaN</td>\n",
       "    </tr>\n",
       "    <tr>\n",
       "      <th>326</th>\n",
       "      <td>To study the Relationship Between strategies p...</td>\n",
       "      <td>NaN</td>\n",
       "      <td>NaN</td>\n",
       "      <td>NaN</td>\n",
       "      <td>NaN</td>\n",
       "      <td>NaN</td>\n",
       "      <td>NaN</td>\n",
       "      <td>NaN</td>\n",
       "      <td>NaN</td>\n",
       "      <td>NaN</td>\n",
       "      <td>NaN</td>\n",
       "      <td>NaN</td>\n",
       "      <td>NaN</td>\n",
       "      <td>NaN</td>\n",
       "      <td>NaN</td>\n",
       "      <td>NaN</td>\n",
       "      <td>NaN</td>\n",
       "      <td>NaN</td>\n",
       "      <td>NaN</td>\n",
       "    </tr>\n",
       "    <tr>\n",
       "      <th>327</th>\n",
       "      <td>comparison between knowledge of caregivers of ...</td>\n",
       "      <td>NaN</td>\n",
       "      <td>NaN</td>\n",
       "      <td>NaN</td>\n",
       "      <td>NaN</td>\n",
       "      <td>NaN</td>\n",
       "      <td>NaN</td>\n",
       "      <td>NaN</td>\n",
       "      <td>NaN</td>\n",
       "      <td>NaN</td>\n",
       "      <td>NaN</td>\n",
       "      <td>NaN</td>\n",
       "      <td>NaN</td>\n",
       "      <td>NaN</td>\n",
       "      <td>NaN</td>\n",
       "      <td>NaN</td>\n",
       "      <td>NaN</td>\n",
       "      <td>NaN</td>\n",
       "      <td>NaN</td>\n",
       "    </tr>\n",
       "    <tr>\n",
       "      <th>328</th>\n",
       "      <td>A Study to Evaluate the Efficacy of Shirobasti...</td>\n",
       "      <td>NaN</td>\n",
       "      <td>NaN</td>\n",
       "      <td>NaN</td>\n",
       "      <td>NaN</td>\n",
       "      <td>NaN</td>\n",
       "      <td>NaN</td>\n",
       "      <td>NaN</td>\n",
       "      <td>NaN</td>\n",
       "      <td>NaN</td>\n",
       "      <td>NaN</td>\n",
       "      <td>NaN</td>\n",
       "      <td>NaN</td>\n",
       "      <td>NaN</td>\n",
       "      <td>NaN</td>\n",
       "      <td>NaN</td>\n",
       "      <td>NaN</td>\n",
       "      <td>NaN</td>\n",
       "      <td>NaN</td>\n",
       "    </tr>\n",
       "    <tr>\n",
       "      <th>329</th>\n",
       "      <td>Treatment for low back ache through siddha sys...</td>\n",
       "      <td>NaN</td>\n",
       "      <td>NaN</td>\n",
       "      <td>NaN</td>\n",
       "      <td>NaN</td>\n",
       "      <td>NaN</td>\n",
       "      <td>NaN</td>\n",
       "      <td>NaN</td>\n",
       "      <td>NaN</td>\n",
       "      <td>NaN</td>\n",
       "      <td>NaN</td>\n",
       "      <td>NaN</td>\n",
       "      <td>NaN</td>\n",
       "      <td>NaN</td>\n",
       "      <td>NaN</td>\n",
       "      <td>NaN</td>\n",
       "      <td>NaN</td>\n",
       "      <td>NaN</td>\n",
       "      <td>NaN</td>\n",
       "    </tr>\n",
       "  </tbody>\n",
       "</table>\n",
       "<p>330 rows × 19 columns</p>\n",
       "</div>"
      ],
      "text/plain": [
       "                                 Public Title of Study  \\\n",
       "0    Study on complications of diabetes and risk of...   \n",
       "1       Quality and outcomes in global cancer surgery.   \n",
       "2                                                  NaN   \n",
       "3    Study of Efficacy and Safety of Two Secukinuma...   \n",
       "4                Amroid tablets and ointments in Piles   \n",
       "..                                                 ...   \n",
       "325  A questionnaire based validation study in pati...   \n",
       "326  To study the Relationship Between strategies p...   \n",
       "327  comparison between knowledge of caregivers of ...   \n",
       "328  A Study to Evaluate the Efficacy of Shirobasti...   \n",
       "329  Treatment for low back ache through siddha sys...   \n",
       "\n",
       "                           Cause1    Cause1 % Match  \\\n",
       "0    Diabetes and kidney diseases  xx% string match   \n",
       "1                  Bladder cancer  xx% string match   \n",
       "2                             NaN               NaN   \n",
       "3                             NaN               NaN   \n",
       "4                             NaN               NaN   \n",
       "..                            ...               ...   \n",
       "325                           NaN               NaN   \n",
       "326                           NaN               NaN   \n",
       "327                           NaN               NaN   \n",
       "328                           NaN               NaN   \n",
       "329                           NaN               NaN   \n",
       "\n",
       "                                      Cause2    Cause2 % Match  \\\n",
       "0                          Diabetes mellitus  xx% string match   \n",
       "1    Brain and central nervous system cancer  xx% string match   \n",
       "2                                        NaN               NaN   \n",
       "3                                        NaN               NaN   \n",
       "4                                        NaN               NaN   \n",
       "..                                       ...               ...   \n",
       "325                                      NaN               NaN   \n",
       "326                                      NaN               NaN   \n",
       "327                                      NaN               NaN   \n",
       "328                                      NaN               NaN   \n",
       "329                                      NaN               NaN   \n",
       "\n",
       "                         Cause3    Cause3 % Match                      Cause4  \\\n",
       "0    Congenital heart anomalies  xx% string match  Hypertensive heart disease   \n",
       "1                 Breast cancer  xx% string match             Cervical cancer   \n",
       "2                           NaN               NaN                         NaN   \n",
       "3                           NaN               NaN                         NaN   \n",
       "4                           NaN               NaN                         NaN   \n",
       "..                          ...               ...                         ...   \n",
       "325                         NaN               NaN                         NaN   \n",
       "326                         NaN               NaN                         NaN   \n",
       "327                         NaN               NaN                         NaN   \n",
       "328                         NaN               NaN                         NaN   \n",
       "329                         NaN               NaN                         NaN   \n",
       "\n",
       "       Cause4 % Match                   Cause5    Cause5 % Match  \\\n",
       "0    xx% string match   Ischemic heart disease  xx% string match   \n",
       "1    xx% string match  Colon and rectum cancer  xx% string match   \n",
       "2                 NaN                      NaN               NaN   \n",
       "3                 NaN                      NaN               NaN   \n",
       "4                 NaN                      NaN               NaN   \n",
       "..                ...                      ...               ...   \n",
       "325               NaN                      NaN               NaN   \n",
       "326               NaN                      NaN               NaN   \n",
       "327               NaN                      NaN               NaN   \n",
       "328               NaN                      NaN               NaN   \n",
       "329               NaN                      NaN               NaN   \n",
       "\n",
       "                                   Cause6    Cause6 % Match  \\\n",
       "0    Non-rheumatic valvular heart disease  xx% string match   \n",
       "1                                     NaN               NaN   \n",
       "2                                     NaN               NaN   \n",
       "3                                     NaN               NaN   \n",
       "4                                     NaN               NaN   \n",
       "..                                    ...               ...   \n",
       "325                                   NaN               NaN   \n",
       "326                                   NaN               NaN   \n",
       "327                                   NaN               NaN   \n",
       "328                                   NaN               NaN   \n",
       "329                                   NaN               NaN   \n",
       "\n",
       "                      Cause7    Cause7 % Match  Cause 'n'  Cause 'n' % Match  \\\n",
       "0    Rheumatic heart disease  xx% string match        NaN                NaN   \n",
       "1                        NaN               NaN        NaN                NaN   \n",
       "2                        NaN               NaN        NaN                NaN   \n",
       "3                        NaN               NaN        NaN                NaN   \n",
       "4                        NaN               NaN        NaN                NaN   \n",
       "..                       ...               ...        ...                ...   \n",
       "325                      NaN               NaN        NaN                NaN   \n",
       "326                      NaN               NaN        NaN                NaN   \n",
       "327                      NaN               NaN        NaN                NaN   \n",
       "328                      NaN               NaN        NaN                NaN   \n",
       "329                      NaN               NaN        NaN                NaN   \n",
       "\n",
       "     Unnamed: 17                      List of Causes  \n",
       "0            NaN                       Acne vulgaris  \n",
       "1            NaN                     Acute hepatitis  \n",
       "2            NaN             Acute lymphoid leukemia  \n",
       "3            NaN              Acute myeloid leukemia  \n",
       "4            NaN  Age-related and other hearing loss  \n",
       "..           ...                                 ...  \n",
       "325          NaN                                 NaN  \n",
       "326          NaN                                 NaN  \n",
       "327          NaN                                 NaN  \n",
       "328          NaN                                 NaN  \n",
       "329          NaN                                 NaN  \n",
       "\n",
       "[330 rows x 19 columns]"
      ]
     },
     "execution_count": 136,
     "metadata": {},
     "output_type": "execute_result"
    }
   ],
   "source": [
    "data"
   ]
  },
  {
   "cell_type": "code",
   "execution_count": 137,
   "metadata": {},
   "outputs": [],
   "source": [
    "Titles = data['Public Title of Study']\n",
    "Causes = data['List of Causes'].dropna()\n",
    "data = Titles + Causes"
   ]
  },
  {
   "cell_type": "code",
   "execution_count": 138,
   "metadata": {},
   "outputs": [
    {
     "data": {
      "text/plain": [
       "255"
      ]
     },
     "execution_count": 138,
     "metadata": {},
     "output_type": "execute_result"
    }
   ],
   "source": [
    "len(Titles)\n",
    "len(Causes)"
   ]
  },
  {
   "cell_type": "markdown",
   "metadata": {},
   "source": [
    "Hence we have  255 causes and 330 titles to search on.\n",
    "Now, we will filter the titles one by one to get to know the keywords of a title and thier properties."
   ]
  },
  {
   "cell_type": "markdown",
   "metadata": {},
   "source": [
    "Now, to preprocess the Titles we will remove the mostl commonly words (stopwords) out of it so that it doesnt affect out models accuracy. Also, we will remove the underscores, puctuations, special characters, escape sequence characters."
   ]
  },
  {
   "cell_type": "code",
   "execution_count": 139,
   "metadata": {},
   "outputs": [],
   "source": [
    "from nltk.stem import WordNetLemmatizer\n",
    "lemmatizer = WordNetLemmatizer()\n",
    "def lemmatize(sentence):\n",
    "    \"\"\"\n",
    "    It will take the word and covert it to its meanigfull format\n",
    "    finally  final finale finalized ---> Final\n",
    "    \"\"\"\n",
    "    sentence =  \" \".join([lemmatizer.lemmatize(word)for word in sentence.split()])\n",
    "    return sentence"
   ]
  },
  {
   "cell_type": "code",
   "execution_count": 140,
   "metadata": {},
   "outputs": [],
   "source": [
    "import re\n",
    "from gensim.parsing.preprocessing import remove_stopwords\n",
    "def preprocessing(sentence):\n",
    "   \n",
    "   ######################### Preprocessing for new_data ##########################e\n",
    "    #Converting to smaller case\n",
    "    sentence = sentence.lower()\n",
    "    #Stop Words Removal\n",
    "    sentence = remove_stopwords(sentence)\n",
    "    #line break removal\n",
    "    sentence = re.sub(r\"\\r?\\\\n\",\" \", sentence)\n",
    "    #remove special characters\n",
    "    sentence = re.sub(r'\\W+', ' ', sentence)\n",
    "    #remove numbers\n",
    "    sentence = sentence.replace('\\d+', '')\n",
    "    sentence = re.sub(r'\\b\\d+\\b', ' ', sentence)\n",
    "    #remove punctuation\n",
    "    sentence = sentence.replace('[^\\w\\s]','')\n",
    "    #remove underscore\n",
    "    sentence = sentence.replace('_', ' ')\n",
    "    #stemming documents(removing ing, ly, s)\n",
    "    #remove stop words and finally stem\n",
    "    sentence = lemmatize(sentence)\n",
    "\n",
    "    return sentence"
   ]
  },
  {
   "cell_type": "code",
   "execution_count": 141,
   "metadata": {},
   "outputs": [
    {
     "data": {
      "text/plain": [
       "'prajwal good boy fav number'"
      ]
     },
     "execution_count": 141,
     "metadata": {},
     "output_type": "execute_result"
    }
   ],
   "source": [
    "preprocessing(\" #Prajwal is a good boy.\\n. his fav number is 4\")"
   ]
  },
  {
   "cell_type": "markdown",
   "metadata": {},
   "source": [
    "Applying the desired processes on the titles"
   ]
  },
  {
   "cell_type": "code",
   "execution_count": 142,
   "metadata": {},
   "outputs": [],
   "source": [
    "Titles = [preprocessing(i) for i in Titles if type(i) is str]"
   ]
  },
  {
   "cell_type": "markdown",
   "metadata": {},
   "source": [
    "Applying the same preprocessing on CAuses"
   ]
  },
  {
   "cell_type": "code",
   "execution_count": 143,
   "metadata": {},
   "outputs": [],
   "source": [
    "Causes = [preprocessing(i) for i in Causes if type(i) is str]"
   ]
  },
  {
   "cell_type": "code",
   "execution_count": 144,
   "metadata": {},
   "outputs": [
    {
     "data": {
      "text/plain": [
       "255"
      ]
     },
     "execution_count": 144,
     "metadata": {},
     "output_type": "execute_result"
    }
   ],
   "source": [
    "len(Causes)"
   ]
  },
  {
   "cell_type": "markdown",
   "metadata": {},
   "source": [
    "# Similarity model Building"
   ]
  },
  {
   "cell_type": "markdown",
   "metadata": {},
   "source": [
    "### 1. Approaching with jackkard similarity"
   ]
  },
  {
   "cell_type": "markdown",
   "metadata": {},
   "source": [
    "Logic\n",
    " - A title with similar words as that in the cause must be more related to the cause. Hence, since the word count in intersection matters we will be going for Jackkard similarity"
   ]
  },
  {
   "cell_type": "markdown",
   "metadata": {},
   "source": [
    "Approach - \n",
    "- Take a title and a cause. compare the words that are closer to (similar to)the words in the cause. and count the Jackkard similariy between them."
   ]
  },
  {
   "cell_type": "code",
   "execution_count": 145,
   "metadata": {},
   "outputs": [],
   "source": [
    "from nltk.corpus import wordnet\n",
    "def get_similars(word):\n",
    "    similars = []\n",
    "    similars_processed = []\n",
    "    for syn in wordnet.synsets(word):\n",
    "        for i in syn.lemmas():\n",
    "            similars.append( preprocessing(i.name()))\n",
    "    \n",
    "    return similars"
   ]
  },
  {
   "cell_type": "code",
   "execution_count": 146,
   "metadata": {},
   "outputs": [
    {
     "data": {
      "text/plain": [
       "[]"
      ]
     },
     "execution_count": 146,
     "metadata": {},
     "output_type": "execute_result"
    }
   ],
   "source": [
    "get_similars('')"
   ]
  },
  {
   "cell_type": "markdown",
   "metadata": {},
   "source": [
    "Function to calculate Jackkard similarity"
   ]
  },
  {
   "cell_type": "code",
   "execution_count": 147,
   "metadata": {},
   "outputs": [],
   "source": [
    "def jaccard_similarity(x,y):\n",
    "  \"\"\" returns the jaccard similarity between two lists \"\"\"\n",
    "  intersection_cardinality = len(set.intersection(*[set(x), set(y)]))\n",
    "  union_cardinality = len(set.union(*[set(x), set(y)]))\n",
    "  return intersection_cardinality/float(union_cardinality)"
   ]
  },
  {
   "cell_type": "markdown",
   "metadata": {},
   "source": [
    "# def main"
   ]
  },
  {
   "cell_type": "code",
   "execution_count": 158,
   "metadata": {},
   "outputs": [
    {
     "name": "stdout",
     "output_type": "stream",
     "text": [
      "acne vulgaris\n"
     ]
    },
    {
     "ename": "ValueError",
     "evalue": "Shape of passed values is (3, 1), indices imply (3, 3)",
     "output_type": "error",
     "traceback": [
      "\u001b[1;31m---------------------------------------------------------------------------\u001b[0m",
      "\u001b[1;31mValueError\u001b[0m                                Traceback (most recent call last)",
      "\u001b[1;32m~\\AppData\\Local\\Temp/ipykernel_8116/3968002319.py\u001b[0m in \u001b[0;36m<module>\u001b[1;34m\u001b[0m\n\u001b[0;32m      4\u001b[0m     \u001b[1;32mfor\u001b[0m \u001b[0mTitle\u001b[0m \u001b[1;32min\u001b[0m \u001b[0mTitles\u001b[0m\u001b[1;33m:\u001b[0m\u001b[1;33m\u001b[0m\u001b[1;33m\u001b[0m\u001b[0m\n\u001b[0;32m      5\u001b[0m         \u001b[0msimilarity\u001b[0m \u001b[1;33m=\u001b[0m \u001b[0mjaccard_similarity\u001b[0m\u001b[1;33m(\u001b[0m\u001b[0mTitle\u001b[0m\u001b[1;33m,\u001b[0m \u001b[0mCause\u001b[0m\u001b[1;33m)\u001b[0m\u001b[1;33m\u001b[0m\u001b[1;33m\u001b[0m\u001b[0m\n\u001b[1;32m----> 6\u001b[1;33m         \u001b[0mfinal_df\u001b[0m\u001b[1;33m.\u001b[0m\u001b[0mappend\u001b[0m\u001b[1;33m(\u001b[0m\u001b[0mpd\u001b[0m\u001b[1;33m.\u001b[0m\u001b[0mDataFrame\u001b[0m\u001b[1;33m(\u001b[0m\u001b[1;33m[\u001b[0m\u001b[0mTitle\u001b[0m\u001b[1;33m,\u001b[0m \u001b[0mCause\u001b[0m\u001b[1;33m,\u001b[0m \u001b[0msimilarity\u001b[0m\u001b[1;33m]\u001b[0m\u001b[1;33m,\u001b[0m \u001b[0mcolumns\u001b[0m\u001b[1;33m=\u001b[0m \u001b[1;33m[\u001b[0m\u001b[0mTitle\u001b[0m\u001b[1;33m,\u001b[0m \u001b[0mCause\u001b[0m\u001b[1;33m,\u001b[0m \u001b[0msimilarity\u001b[0m\u001b[1;33m]\u001b[0m\u001b[1;33m)\u001b[0m\u001b[1;33m)\u001b[0m\u001b[1;33m\u001b[0m\u001b[1;33m\u001b[0m\u001b[0m\n\u001b[0m\u001b[0;32m      7\u001b[0m \u001b[1;33m\u001b[0m\u001b[0m\n\u001b[0;32m      8\u001b[0m     \u001b[1;31m# print(Cause)\u001b[0m\u001b[1;33m\u001b[0m\u001b[1;33m\u001b[0m\u001b[0m\n",
      "\u001b[1;32mc:\\Users\\pwayk\\AppData\\Local\\Programs\\Python\\Python39\\lib\\site-packages\\pandas\\core\\frame.py\u001b[0m in \u001b[0;36m__init__\u001b[1;34m(self, data, index, columns, dtype, copy)\u001b[0m\n\u001b[0;32m    709\u001b[0m                     )\n\u001b[0;32m    710\u001b[0m                 \u001b[1;32melse\u001b[0m\u001b[1;33m:\u001b[0m\u001b[1;33m\u001b[0m\u001b[1;33m\u001b[0m\u001b[0m\n\u001b[1;32m--> 711\u001b[1;33m                     mgr = ndarray_to_mgr(\n\u001b[0m\u001b[0;32m    712\u001b[0m                         \u001b[0mdata\u001b[0m\u001b[1;33m,\u001b[0m\u001b[1;33m\u001b[0m\u001b[1;33m\u001b[0m\u001b[0m\n\u001b[0;32m    713\u001b[0m                         \u001b[0mindex\u001b[0m\u001b[1;33m,\u001b[0m\u001b[1;33m\u001b[0m\u001b[1;33m\u001b[0m\u001b[0m\n",
      "\u001b[1;32mc:\\Users\\pwayk\\AppData\\Local\\Programs\\Python\\Python39\\lib\\site-packages\\pandas\\core\\internals\\construction.py\u001b[0m in \u001b[0;36mndarray_to_mgr\u001b[1;34m(values, index, columns, dtype, copy, typ)\u001b[0m\n\u001b[0;32m    322\u001b[0m     )\n\u001b[0;32m    323\u001b[0m \u001b[1;33m\u001b[0m\u001b[0m\n\u001b[1;32m--> 324\u001b[1;33m     \u001b[0m_check_values_indices_shape_match\u001b[0m\u001b[1;33m(\u001b[0m\u001b[0mvalues\u001b[0m\u001b[1;33m,\u001b[0m \u001b[0mindex\u001b[0m\u001b[1;33m,\u001b[0m \u001b[0mcolumns\u001b[0m\u001b[1;33m)\u001b[0m\u001b[1;33m\u001b[0m\u001b[1;33m\u001b[0m\u001b[0m\n\u001b[0m\u001b[0;32m    325\u001b[0m \u001b[1;33m\u001b[0m\u001b[0m\n\u001b[0;32m    326\u001b[0m     \u001b[1;32mif\u001b[0m \u001b[0mtyp\u001b[0m \u001b[1;33m==\u001b[0m \u001b[1;34m\"array\"\u001b[0m\u001b[1;33m:\u001b[0m\u001b[1;33m\u001b[0m\u001b[1;33m\u001b[0m\u001b[0m\n",
      "\u001b[1;32mc:\\Users\\pwayk\\AppData\\Local\\Programs\\Python\\Python39\\lib\\site-packages\\pandas\\core\\internals\\construction.py\u001b[0m in \u001b[0;36m_check_values_indices_shape_match\u001b[1;34m(values, index, columns)\u001b[0m\n\u001b[0;32m    391\u001b[0m         \u001b[0mpassed\u001b[0m \u001b[1;33m=\u001b[0m \u001b[0mvalues\u001b[0m\u001b[1;33m.\u001b[0m\u001b[0mshape\u001b[0m\u001b[1;33m\u001b[0m\u001b[1;33m\u001b[0m\u001b[0m\n\u001b[0;32m    392\u001b[0m         \u001b[0mimplied\u001b[0m \u001b[1;33m=\u001b[0m \u001b[1;33m(\u001b[0m\u001b[0mlen\u001b[0m\u001b[1;33m(\u001b[0m\u001b[0mindex\u001b[0m\u001b[1;33m)\u001b[0m\u001b[1;33m,\u001b[0m \u001b[0mlen\u001b[0m\u001b[1;33m(\u001b[0m\u001b[0mcolumns\u001b[0m\u001b[1;33m)\u001b[0m\u001b[1;33m)\u001b[0m\u001b[1;33m\u001b[0m\u001b[1;33m\u001b[0m\u001b[0m\n\u001b[1;32m--> 393\u001b[1;33m         \u001b[1;32mraise\u001b[0m \u001b[0mValueError\u001b[0m\u001b[1;33m(\u001b[0m\u001b[1;34mf\"Shape of passed values is {passed}, indices imply {implied}\"\u001b[0m\u001b[1;33m)\u001b[0m\u001b[1;33m\u001b[0m\u001b[1;33m\u001b[0m\u001b[0m\n\u001b[0m\u001b[0;32m    394\u001b[0m \u001b[1;33m\u001b[0m\u001b[0m\n\u001b[0;32m    395\u001b[0m \u001b[1;33m\u001b[0m\u001b[0m\n",
      "\u001b[1;31mValueError\u001b[0m: Shape of passed values is (3, 1), indices imply (3, 3)"
     ]
    }
   ],
   "source": [
    "final_df = pd.DataFrame()\n",
    "for Cause in Causes:\n",
    "    print(Cause)\n",
    "    for Title in Titles:\n",
    "        similarity = jaccard_similarity(Title, Cause)\n",
    "        final_df.append(pd.DataFrame([Title, Cause, similarity], columns= [Title, Cause, similarity]))\n",
    "        \n",
    "    # print(Cause)\n",
    "    # cause_similars = [j for j in [get_similars(i) for i in Cause.split(\" \")]]\n",
    "    # print(cause_similars)\n",
    "    # break\n",
    "    # cause = ' '.join( i for i in cause_similars)\n",
    "    # print(type(cause))\n",
    "    # for id, Title in enumerate(Titles):\n",
    "    #     similarity = jaccard_similarity(cause, Title)\n",
    "    #     final_df.append(pd.DataFrame([Title, Cause, similarity], columns= [Title, Cause, similarity]))\n",
    "        \n",
    "        \n",
    "        \n",
    "        \n",
    "    "
   ]
  },
  {
   "cell_type": "code",
   "execution_count": null,
   "metadata": {},
   "outputs": [],
   "source": []
  }
 ],
 "metadata": {
  "kernelspec": {
   "display_name": "Python 3.9.7 64-bit",
   "language": "python",
   "name": "python3"
  },
  "language_info": {
   "codemirror_mode": {
    "name": "ipython",
    "version": 3
   },
   "file_extension": ".py",
   "mimetype": "text/x-python",
   "name": "python",
   "nbconvert_exporter": "python",
   "pygments_lexer": "ipython3",
   "version": "3.9.7"
  },
  "orig_nbformat": 4,
  "vscode": {
   "interpreter": {
    "hash": "941096ab4a304f3509822dba92ee1d36e30c4bf17f0e34fdfd12300d4a2ccfca"
   }
  }
 },
 "nbformat": 4,
 "nbformat_minor": 2
}
