{
  "cells": [
    {
      "cell_type": "markdown",
      "metadata": {
        "id": "mGI13Bxla2Qy"
      },
      "source": [
        "## Linear Regression Implementation "
      ]
    },
    {
      "cell_type": "markdown",
      "metadata": {
        "id": "FipHyHVybQtk"
      },
      "source": [
        "## Imports"
      ]
    },
    {
      "cell_type": "code",
      "execution_count": 285,
      "metadata": {
        "id": "pqrih-LUa2Q1"
      },
      "outputs": [],
      "source": [
        "import pandas as pd\n",
        "import numpy as np\n",
        "import matplotlib.pyplot as plt\n",
        "import seaborn as sns\n",
        "#in order to see these visualizations in our notebook environment, I need to specify with\n",
        "%matplotlib inline\n",
        "\n",
        "from sklearn.datasets import load_boston"
      ]
    },
    {
      "cell_type": "markdown",
      "metadata": {
        "id": "w9rPBMkpbXTp"
      },
      "source": [
        "## Loading In the Boston House Prices Dataset"
      ]
    },
    {
      "cell_type": "code",
      "execution_count": 286,
      "metadata": {
        "id": "HRbLABKka2Q3"
      },
      "outputs": [
        {
          "name": "stderr",
          "output_type": "stream",
          "text": [
            "C:\\Users\\pwayk\\AppData\\Local\\Programs\\Python\\Python39\\lib\\site-packages\\sklearn\\utils\\deprecation.py:87: FutureWarning: Function load_boston is deprecated; `load_boston` is deprecated in 1.0 and will be removed in 1.2.\n",
            "\n",
            "    The Boston housing prices dataset has an ethical problem. You can refer to\n",
            "    the documentation of this function for further details.\n",
            "\n",
            "    The scikit-learn maintainers therefore strongly discourage the use of this\n",
            "    dataset unless the purpose of the code is to study and educate about\n",
            "    ethical issues in data science and machine learning.\n",
            "\n",
            "    In this case special case, you can fetch the dataset from the original\n",
            "    source::\n",
            "\n",
            "        import pandas as pd\n",
            "        import numpy as np\n",
            "\n",
            "\n",
            "        data_url = \"http://lib.stat.cmu.edu/datasets/boston\"\n",
            "        raw_df = pd.read_csv(data_url, sep=\"\\s+\", skiprows=22, header=None)\n",
            "        data = np.hstack([raw_df.values[::2, :], raw_df.values[1::2, :2]])\n",
            "        target = raw_df.values[1::2, 2]\n",
            "\n",
            "    Alternative datasets include the California housing dataset (i.e.\n",
            "    func:`~sklearn.datasets.fetch_california_housing`) and the Ames housing\n",
            "    dataset. You can load the datasets as follows:\n",
            "\n",
            "        from sklearn.datasets import fetch_california_housing\n",
            "        housing = fetch_california_housing()\n",
            "\n",
            "    for the California housing dataset and:\n",
            "\n",
            "        from sklearn.datasets import fetch_openml\n",
            "        housing = fetch_openml(name=\"house_prices\", as_frame=True)\n",
            "\n",
            "    for the Ames housing dataset.\n",
            "    \n",
            "  warnings.warn(msg, category=FutureWarning)\n"
          ]
        }
      ],
      "source": [
        "boston = load_boston()"
      ]
    },
    {
      "cell_type": "code",
      "execution_count": 287,
      "metadata": {
        "colab": {
          "base_uri": "https://localhost:8080/"
        },
        "id": "A4RZN8o23ZxX",
        "outputId": "35f8ddc3-06ea-4769-d608-e1d4e0aae1ba"
      },
      "outputs": [
        {
          "data": {
            "text/plain": [
              "dict_keys(['data', 'target', 'feature_names', 'DESCR', 'filename', 'data_module'])"
            ]
          },
          "execution_count": 287,
          "metadata": {},
          "output_type": "execute_result"
        }
      ],
      "source": [
        "#what this boston variable is, is that it's a dictionary \n",
        "#to briefly summarize, a dictionary is a data structure that contains key-value pairs, and what these keys do is they unlock certain aspects of our dictionary dataset, and I'll show you what that means as I go through the walkthrough\n",
        "#the keys for this dictionary to our dataset can be seen by passing in:\n",
        "boston.keys()\n",
        "#basically, whenever you have a dictionary and want a list of all it's keys, we can do that with the .keys() function "
      ]
    },
    {
      "cell_type": "code",
      "execution_count": 288,
      "metadata": {
        "colab": {
          "base_uri": "https://localhost:8080/"
        },
        "id": "xn3QcrtYa2Q3",
        "outputId": "62e010e7-737f-49f0-fdc1-dbe3a90f197a"
      },
      "outputs": [
        {
          "name": "stdout",
          "output_type": "stream",
          "text": [
            ".. _boston_dataset:\n",
            "\n",
            "Boston house prices dataset\n",
            "---------------------------\n",
            "\n",
            "**Data Set Characteristics:**  \n",
            "\n",
            "    :Number of Instances: 506 \n",
            "\n",
            "    :Number of Attributes: 13 numeric/categorical predictive. Median Value (attribute 14) is usually the target.\n",
            "\n",
            "    :Attribute Information (in order):\n",
            "        - CRIM     per capita crime rate by town\n",
            "        - ZN       proportion of residential land zoned for lots over 25,000 sq.ft.\n",
            "        - INDUS    proportion of non-retail business acres per town\n",
            "        - CHAS     Charles River dummy variable (= 1 if tract bounds river; 0 otherwise)\n",
            "        - NOX      nitric oxides concentration (parts per 10 million)\n",
            "        - RM       average number of rooms per dwelling\n",
            "        - AGE      proportion of owner-occupied units built prior to 1940\n",
            "        - DIS      weighted distances to five Boston employment centres\n",
            "        - RAD      index of accessibility to radial highways\n",
            "        - TAX      full-value property-tax rate per $10,000\n",
            "        - PTRATIO  pupil-teacher ratio by town\n",
            "        - B        1000(Bk - 0.63)^2 where Bk is the proportion of black people by town\n",
            "        - LSTAT    % lower status of the population\n",
            "        - MEDV     Median value of owner-occupied homes in $1000's\n",
            "\n",
            "    :Missing Attribute Values: None\n",
            "\n",
            "    :Creator: Harrison, D. and Rubinfeld, D.L.\n",
            "\n",
            "This is a copy of UCI ML housing dataset.\n",
            "https://archive.ics.uci.edu/ml/machine-learning-databases/housing/\n",
            "\n",
            "\n",
            "This dataset was taken from the StatLib library which is maintained at Carnegie Mellon University.\n",
            "\n",
            "The Boston house-price data of Harrison, D. and Rubinfeld, D.L. 'Hedonic\n",
            "prices and the demand for clean air', J. Environ. Economics & Management,\n",
            "vol.5, 81-102, 1978.   Used in Belsley, Kuh & Welsch, 'Regression diagnostics\n",
            "...', Wiley, 1980.   N.B. Various transformations are used in the table on\n",
            "pages 244-261 of the latter.\n",
            "\n",
            "The Boston house-price data has been used in many machine learning papers that address regression\n",
            "problems.   \n",
            "     \n",
            ".. topic:: References\n",
            "\n",
            "   - Belsley, Kuh & Welsch, 'Regression diagnostics: Identifying Influential Data and Sources of Collinearity', Wiley, 1980. 244-261.\n",
            "   - Quinlan,R. (1993). Combining Instance-Based and Model-Based Learning. In Proceedings on the Tenth International Conference of Machine Learning, 236-243, University of Massachusetts, Amherst. Morgan Kaufmann.\n",
            "\n"
          ]
        }
      ],
      "source": [
        "#now that we have that out of the way, let's actually use one of the keys, the description key, to get a better sense of all the characteristics, attributes, and features in our dataset \n",
        "print(boston.DESCR)\n"
      ]
    },
    {
      "cell_type": "code",
      "execution_count": 289,
      "metadata": {},
      "outputs": [
        {
          "name": "stdout",
          "output_type": "stream",
          "text": [
            "[24.  21.6 34.7 33.4 36.2 28.7 22.9 27.1 16.5 18.9 15.  18.9 21.7 20.4\n",
            " 18.2 19.9 23.1 17.5 20.2 18.2 13.6 19.6 15.2 14.5 15.6 13.9 16.6 14.8\n",
            " 18.4 21.  12.7 14.5 13.2 13.1 13.5 18.9 20.  21.  24.7 30.8 34.9 26.6\n",
            " 25.3 24.7 21.2 19.3 20.  16.6 14.4 19.4 19.7 20.5 25.  23.4 18.9 35.4\n",
            " 24.7 31.6 23.3 19.6 18.7 16.  22.2 25.  33.  23.5 19.4 22.  17.4 20.9\n",
            " 24.2 21.7 22.8 23.4 24.1 21.4 20.  20.8 21.2 20.3 28.  23.9 24.8 22.9\n",
            " 23.9 26.6 22.5 22.2 23.6 28.7 22.6 22.  22.9 25.  20.6 28.4 21.4 38.7\n",
            " 43.8 33.2 27.5 26.5 18.6 19.3 20.1 19.5 19.5 20.4 19.8 19.4 21.7 22.8\n",
            " 18.8 18.7 18.5 18.3 21.2 19.2 20.4 19.3 22.  20.3 20.5 17.3 18.8 21.4\n",
            " 15.7 16.2 18.  14.3 19.2 19.6 23.  18.4 15.6 18.1 17.4 17.1 13.3 17.8\n",
            " 14.  14.4 13.4 15.6 11.8 13.8 15.6 14.6 17.8 15.4 21.5 19.6 15.3 19.4\n",
            " 17.  15.6 13.1 41.3 24.3 23.3 27.  50.  50.  50.  22.7 25.  50.  23.8\n",
            " 23.8 22.3 17.4 19.1 23.1 23.6 22.6 29.4 23.2 24.6 29.9 37.2 39.8 36.2\n",
            " 37.9 32.5 26.4 29.6 50.  32.  29.8 34.9 37.  30.5 36.4 31.1 29.1 50.\n",
            " 33.3 30.3 34.6 34.9 32.9 24.1 42.3 48.5 50.  22.6 24.4 22.5 24.4 20.\n",
            " 21.7 19.3 22.4 28.1 23.7 25.  23.3 28.7 21.5 23.  26.7 21.7 27.5 30.1\n",
            " 44.8 50.  37.6 31.6 46.7 31.5 24.3 31.7 41.7 48.3 29.  24.  25.1 31.5\n",
            " 23.7 23.3 22.  20.1 22.2 23.7 17.6 18.5 24.3 20.5 24.5 26.2 24.4 24.8\n",
            " 29.6 42.8 21.9 20.9 44.  50.  36.  30.1 33.8 43.1 48.8 31.  36.5 22.8\n",
            " 30.7 50.  43.5 20.7 21.1 25.2 24.4 35.2 32.4 32.  33.2 33.1 29.1 35.1\n",
            " 45.4 35.4 46.  50.  32.2 22.  20.1 23.2 22.3 24.8 28.5 37.3 27.9 23.9\n",
            " 21.7 28.6 27.1 20.3 22.5 29.  24.8 22.  26.4 33.1 36.1 28.4 33.4 28.2\n",
            " 22.8 20.3 16.1 22.1 19.4 21.6 23.8 16.2 17.8 19.8 23.1 21.  23.8 23.1\n",
            " 20.4 18.5 25.  24.6 23.  22.2 19.3 22.6 19.8 17.1 19.4 22.2 20.7 21.1\n",
            " 19.5 18.5 20.6 19.  18.7 32.7 16.5 23.9 31.2 17.5 17.2 23.1 24.5 26.6\n",
            " 22.9 24.1 18.6 30.1 18.2 20.6 17.8 21.7 22.7 22.6 25.  19.9 20.8 16.8\n",
            " 21.9 27.5 21.9 23.1 50.  50.  50.  50.  50.  13.8 13.8 15.  13.9 13.3\n",
            " 13.1 10.2 10.4 10.9 11.3 12.3  8.8  7.2 10.5  7.4 10.2 11.5 15.1 23.2\n",
            "  9.7 13.8 12.7 13.1 12.5  8.5  5.   6.3  5.6  7.2 12.1  8.3  8.5  5.\n",
            " 11.9 27.9 17.2 27.5 15.  17.2 17.9 16.3  7.   7.2  7.5 10.4  8.8  8.4\n",
            " 16.7 14.2 20.8 13.4 11.7  8.3 10.2 10.9 11.   9.5 14.5 14.1 16.1 14.3\n",
            " 11.7 13.4  9.6  8.7  8.4 12.8 10.5 17.1 18.4 15.4 10.8 11.8 14.9 12.6\n",
            " 14.1 13.  13.4 15.2 16.1 17.8 14.9 14.1 12.7 13.5 14.9 20.  16.4 17.7\n",
            " 19.5 20.2 21.4 19.9 19.  19.1 19.1 20.1 19.9 19.6 23.2 29.8 13.8 13.3\n",
            " 16.7 12.  14.6 21.4 23.  23.7 25.  21.8 20.6 21.2 19.1 20.6 15.2  7.\n",
            "  8.1 13.6 20.1 21.8 24.5 23.1 19.7 18.3 21.2 17.5 16.8 22.4 20.6 23.9\n",
            " 22.  11.9]\n"
          ]
        }
      ],
      "source": [
        "print(boston.target) #Target is what it that is to be prdicted here it is Price"
      ]
    },
    {
      "cell_type": "code",
      "execution_count": 290,
      "metadata": {
        "id": "WmobcvAOa2Q4"
      },
      "outputs": [],
      "source": [
        "df_boston = pd.DataFrame(boston.data, columns = boston.feature_names)"
      ]
    },
    {
      "cell_type": "code",
      "execution_count": 291,
      "metadata": {
        "colab": {
          "base_uri": "https://localhost:8080/",
          "height": 204
        },
        "id": "evpo_-Kpa2Q4",
        "outputId": "76939857-5a32-47ab-8460-e7ac8f29f359"
      },
      "outputs": [
        {
          "data": {
            "text/html": [
              "<div>\n",
              "<style scoped>\n",
              "    .dataframe tbody tr th:only-of-type {\n",
              "        vertical-align: middle;\n",
              "    }\n",
              "\n",
              "    .dataframe tbody tr th {\n",
              "        vertical-align: top;\n",
              "    }\n",
              "\n",
              "    .dataframe thead th {\n",
              "        text-align: right;\n",
              "    }\n",
              "</style>\n",
              "<table border=\"1\" class=\"dataframe\">\n",
              "  <thead>\n",
              "    <tr style=\"text-align: right;\">\n",
              "      <th></th>\n",
              "      <th>CRIM</th>\n",
              "      <th>ZN</th>\n",
              "      <th>INDUS</th>\n",
              "      <th>CHAS</th>\n",
              "      <th>NOX</th>\n",
              "      <th>RM</th>\n",
              "      <th>AGE</th>\n",
              "      <th>DIS</th>\n",
              "      <th>RAD</th>\n",
              "      <th>TAX</th>\n",
              "      <th>PTRATIO</th>\n",
              "      <th>B</th>\n",
              "      <th>LSTAT</th>\n",
              "    </tr>\n",
              "  </thead>\n",
              "  <tbody>\n",
              "    <tr>\n",
              "      <th>0</th>\n",
              "      <td>0.00632</td>\n",
              "      <td>18.0</td>\n",
              "      <td>2.31</td>\n",
              "      <td>0.0</td>\n",
              "      <td>0.538</td>\n",
              "      <td>6.575</td>\n",
              "      <td>65.2</td>\n",
              "      <td>4.0900</td>\n",
              "      <td>1.0</td>\n",
              "      <td>296.0</td>\n",
              "      <td>15.3</td>\n",
              "      <td>396.90</td>\n",
              "      <td>4.98</td>\n",
              "    </tr>\n",
              "    <tr>\n",
              "      <th>1</th>\n",
              "      <td>0.02731</td>\n",
              "      <td>0.0</td>\n",
              "      <td>7.07</td>\n",
              "      <td>0.0</td>\n",
              "      <td>0.469</td>\n",
              "      <td>6.421</td>\n",
              "      <td>78.9</td>\n",
              "      <td>4.9671</td>\n",
              "      <td>2.0</td>\n",
              "      <td>242.0</td>\n",
              "      <td>17.8</td>\n",
              "      <td>396.90</td>\n",
              "      <td>9.14</td>\n",
              "    </tr>\n",
              "    <tr>\n",
              "      <th>2</th>\n",
              "      <td>0.02729</td>\n",
              "      <td>0.0</td>\n",
              "      <td>7.07</td>\n",
              "      <td>0.0</td>\n",
              "      <td>0.469</td>\n",
              "      <td>7.185</td>\n",
              "      <td>61.1</td>\n",
              "      <td>4.9671</td>\n",
              "      <td>2.0</td>\n",
              "      <td>242.0</td>\n",
              "      <td>17.8</td>\n",
              "      <td>392.83</td>\n",
              "      <td>4.03</td>\n",
              "    </tr>\n",
              "    <tr>\n",
              "      <th>3</th>\n",
              "      <td>0.03237</td>\n",
              "      <td>0.0</td>\n",
              "      <td>2.18</td>\n",
              "      <td>0.0</td>\n",
              "      <td>0.458</td>\n",
              "      <td>6.998</td>\n",
              "      <td>45.8</td>\n",
              "      <td>6.0622</td>\n",
              "      <td>3.0</td>\n",
              "      <td>222.0</td>\n",
              "      <td>18.7</td>\n",
              "      <td>394.63</td>\n",
              "      <td>2.94</td>\n",
              "    </tr>\n",
              "    <tr>\n",
              "      <th>4</th>\n",
              "      <td>0.06905</td>\n",
              "      <td>0.0</td>\n",
              "      <td>2.18</td>\n",
              "      <td>0.0</td>\n",
              "      <td>0.458</td>\n",
              "      <td>7.147</td>\n",
              "      <td>54.2</td>\n",
              "      <td>6.0622</td>\n",
              "      <td>3.0</td>\n",
              "      <td>222.0</td>\n",
              "      <td>18.7</td>\n",
              "      <td>396.90</td>\n",
              "      <td>5.33</td>\n",
              "    </tr>\n",
              "  </tbody>\n",
              "</table>\n",
              "</div>"
            ],
            "text/plain": [
              "      CRIM    ZN  INDUS  CHAS    NOX     RM   AGE     DIS  RAD    TAX  \\\n",
              "0  0.00632  18.0   2.31   0.0  0.538  6.575  65.2  4.0900  1.0  296.0   \n",
              "1  0.02731   0.0   7.07   0.0  0.469  6.421  78.9  4.9671  2.0  242.0   \n",
              "2  0.02729   0.0   7.07   0.0  0.469  7.185  61.1  4.9671  2.0  242.0   \n",
              "3  0.03237   0.0   2.18   0.0  0.458  6.998  45.8  6.0622  3.0  222.0   \n",
              "4  0.06905   0.0   2.18   0.0  0.458  7.147  54.2  6.0622  3.0  222.0   \n",
              "\n",
              "   PTRATIO       B  LSTAT  \n",
              "0     15.3  396.90   4.98  \n",
              "1     17.8  396.90   9.14  \n",
              "2     17.8  392.83   4.03  \n",
              "3     18.7  394.63   2.94  \n",
              "4     18.7  396.90   5.33  "
            ]
          },
          "execution_count": 291,
          "metadata": {},
          "output_type": "execute_result"
        }
      ],
      "source": [
        "#allows you to see the first 5 data points of your dataframe\n",
        "df_boston.head()"
      ]
    },
    {
      "cell_type": "code",
      "execution_count": 292,
      "metadata": {
        "id": "FKECC5XIa2Q5"
      },
      "outputs": [],
      "source": [
        "df_boston['house_prices'] = boston.target #Adding a new Coloumn to the datase\n",
        "#the new coloumn is the price of that particular house which here in this dataset is stored in the form of boston.taget #target is what our goal is to find it is (HERE)"
      ]
    },
    {
      "cell_type": "code",
      "execution_count": 293,
      "metadata": {
        "colab": {
          "base_uri": "https://localhost:8080/",
          "height": 204
        },
        "id": "zX_rC48pa2Q5",
        "outputId": "1e9b7fb3-7139-4621-f43c-1f7ed87186f4"
      },
      "outputs": [
        {
          "data": {
            "text/html": [
              "<div>\n",
              "<style scoped>\n",
              "    .dataframe tbody tr th:only-of-type {\n",
              "        vertical-align: middle;\n",
              "    }\n",
              "\n",
              "    .dataframe tbody tr th {\n",
              "        vertical-align: top;\n",
              "    }\n",
              "\n",
              "    .dataframe thead th {\n",
              "        text-align: right;\n",
              "    }\n",
              "</style>\n",
              "<table border=\"1\" class=\"dataframe\">\n",
              "  <thead>\n",
              "    <tr style=\"text-align: right;\">\n",
              "      <th></th>\n",
              "      <th>CRIM</th>\n",
              "      <th>ZN</th>\n",
              "      <th>INDUS</th>\n",
              "      <th>CHAS</th>\n",
              "      <th>NOX</th>\n",
              "      <th>RM</th>\n",
              "      <th>AGE</th>\n",
              "      <th>DIS</th>\n",
              "      <th>RAD</th>\n",
              "      <th>TAX</th>\n",
              "      <th>PTRATIO</th>\n",
              "      <th>B</th>\n",
              "      <th>LSTAT</th>\n",
              "      <th>house_prices</th>\n",
              "    </tr>\n",
              "  </thead>\n",
              "  <tbody>\n",
              "    <tr>\n",
              "      <th>0</th>\n",
              "      <td>0.00632</td>\n",
              "      <td>18.0</td>\n",
              "      <td>2.31</td>\n",
              "      <td>0.0</td>\n",
              "      <td>0.538</td>\n",
              "      <td>6.575</td>\n",
              "      <td>65.2</td>\n",
              "      <td>4.0900</td>\n",
              "      <td>1.0</td>\n",
              "      <td>296.0</td>\n",
              "      <td>15.3</td>\n",
              "      <td>396.90</td>\n",
              "      <td>4.98</td>\n",
              "      <td>24.0</td>\n",
              "    </tr>\n",
              "    <tr>\n",
              "      <th>1</th>\n",
              "      <td>0.02731</td>\n",
              "      <td>0.0</td>\n",
              "      <td>7.07</td>\n",
              "      <td>0.0</td>\n",
              "      <td>0.469</td>\n",
              "      <td>6.421</td>\n",
              "      <td>78.9</td>\n",
              "      <td>4.9671</td>\n",
              "      <td>2.0</td>\n",
              "      <td>242.0</td>\n",
              "      <td>17.8</td>\n",
              "      <td>396.90</td>\n",
              "      <td>9.14</td>\n",
              "      <td>21.6</td>\n",
              "    </tr>\n",
              "    <tr>\n",
              "      <th>2</th>\n",
              "      <td>0.02729</td>\n",
              "      <td>0.0</td>\n",
              "      <td>7.07</td>\n",
              "      <td>0.0</td>\n",
              "      <td>0.469</td>\n",
              "      <td>7.185</td>\n",
              "      <td>61.1</td>\n",
              "      <td>4.9671</td>\n",
              "      <td>2.0</td>\n",
              "      <td>242.0</td>\n",
              "      <td>17.8</td>\n",
              "      <td>392.83</td>\n",
              "      <td>4.03</td>\n",
              "      <td>34.7</td>\n",
              "    </tr>\n",
              "    <tr>\n",
              "      <th>3</th>\n",
              "      <td>0.03237</td>\n",
              "      <td>0.0</td>\n",
              "      <td>2.18</td>\n",
              "      <td>0.0</td>\n",
              "      <td>0.458</td>\n",
              "      <td>6.998</td>\n",
              "      <td>45.8</td>\n",
              "      <td>6.0622</td>\n",
              "      <td>3.0</td>\n",
              "      <td>222.0</td>\n",
              "      <td>18.7</td>\n",
              "      <td>394.63</td>\n",
              "      <td>2.94</td>\n",
              "      <td>33.4</td>\n",
              "    </tr>\n",
              "    <tr>\n",
              "      <th>4</th>\n",
              "      <td>0.06905</td>\n",
              "      <td>0.0</td>\n",
              "      <td>2.18</td>\n",
              "      <td>0.0</td>\n",
              "      <td>0.458</td>\n",
              "      <td>7.147</td>\n",
              "      <td>54.2</td>\n",
              "      <td>6.0622</td>\n",
              "      <td>3.0</td>\n",
              "      <td>222.0</td>\n",
              "      <td>18.7</td>\n",
              "      <td>396.90</td>\n",
              "      <td>5.33</td>\n",
              "      <td>36.2</td>\n",
              "    </tr>\n",
              "  </tbody>\n",
              "</table>\n",
              "</div>"
            ],
            "text/plain": [
              "      CRIM    ZN  INDUS  CHAS    NOX     RM   AGE     DIS  RAD    TAX  \\\n",
              "0  0.00632  18.0   2.31   0.0  0.538  6.575  65.2  4.0900  1.0  296.0   \n",
              "1  0.02731   0.0   7.07   0.0  0.469  6.421  78.9  4.9671  2.0  242.0   \n",
              "2  0.02729   0.0   7.07   0.0  0.469  7.185  61.1  4.9671  2.0  242.0   \n",
              "3  0.03237   0.0   2.18   0.0  0.458  6.998  45.8  6.0622  3.0  222.0   \n",
              "4  0.06905   0.0   2.18   0.0  0.458  7.147  54.2  6.0622  3.0  222.0   \n",
              "\n",
              "   PTRATIO       B  LSTAT  house_prices  \n",
              "0     15.3  396.90   4.98          24.0  \n",
              "1     17.8  396.90   9.14          21.6  \n",
              "2     17.8  392.83   4.03          34.7  \n",
              "3     18.7  394.63   2.94          33.4  \n",
              "4     18.7  396.90   5.33          36.2  "
            ]
          },
          "execution_count": 293,
          "metadata": {},
          "output_type": "execute_result"
        }
      ],
      "source": [
        "df_boston.head()"
      ]
    },
    {
      "cell_type": "markdown",
      "metadata": {
        "id": "DbdYunoAbjWS"
      },
      "source": [
        "## Statistics, Visualizations, EDA"
      ]
    },
    {
      "cell_type": "code",
      "execution_count": 294,
      "metadata": {
        "colab": {
          "base_uri": "https://localhost:8080/"
        },
        "id": "ZnkwuUOsa2Q6",
        "outputId": "79742785-dde4-45a1-b2c8-5e59ebd2d914"
      },
      "outputs": [
        {
          "name": "stdout",
          "output_type": "stream",
          "text": [
            "<class 'pandas.core.frame.DataFrame'>\n",
            "RangeIndex: 506 entries, 0 to 505\n",
            "Data columns (total 14 columns):\n",
            " #   Column        Non-Null Count  Dtype  \n",
            "---  ------        --------------  -----  \n",
            " 0   CRIM          506 non-null    float64\n",
            " 1   ZN            506 non-null    float64\n",
            " 2   INDUS         506 non-null    float64\n",
            " 3   CHAS          506 non-null    float64\n",
            " 4   NOX           506 non-null    float64\n",
            " 5   RM            506 non-null    float64\n",
            " 6   AGE           506 non-null    float64\n",
            " 7   DIS           506 non-null    float64\n",
            " 8   RAD           506 non-null    float64\n",
            " 9   TAX           506 non-null    float64\n",
            " 10  PTRATIO       506 non-null    float64\n",
            " 11  B             506 non-null    float64\n",
            " 12  LSTAT         506 non-null    float64\n",
            " 13  house_prices  506 non-null    float64\n",
            "dtypes: float64(14)\n",
            "memory usage: 55.5 KB\n"
          ]
        }
      ],
      "source": [
        "df_boston.info()"
      ]
    },
    {
      "cell_type": "code",
      "execution_count": 295,
      "metadata": {
        "colab": {
          "base_uri": "https://localhost:8080/",
          "height": 297
        },
        "id": "Ab1L3Bo8a2Q6",
        "outputId": "4fdcc604-d073-4a90-c018-8af8005aeee9"
      },
      "outputs": [
        {
          "data": {
            "text/html": [
              "<div>\n",
              "<style scoped>\n",
              "    .dataframe tbody tr th:only-of-type {\n",
              "        vertical-align: middle;\n",
              "    }\n",
              "\n",
              "    .dataframe tbody tr th {\n",
              "        vertical-align: top;\n",
              "    }\n",
              "\n",
              "    .dataframe thead th {\n",
              "        text-align: right;\n",
              "    }\n",
              "</style>\n",
              "<table border=\"1\" class=\"dataframe\">\n",
              "  <thead>\n",
              "    <tr style=\"text-align: right;\">\n",
              "      <th></th>\n",
              "      <th>CRIM</th>\n",
              "      <th>ZN</th>\n",
              "      <th>INDUS</th>\n",
              "      <th>CHAS</th>\n",
              "      <th>NOX</th>\n",
              "      <th>RM</th>\n",
              "      <th>AGE</th>\n",
              "      <th>DIS</th>\n",
              "      <th>RAD</th>\n",
              "      <th>TAX</th>\n",
              "      <th>PTRATIO</th>\n",
              "      <th>B</th>\n",
              "      <th>LSTAT</th>\n",
              "      <th>house_prices</th>\n",
              "    </tr>\n",
              "  </thead>\n",
              "  <tbody>\n",
              "    <tr>\n",
              "      <th>count</th>\n",
              "      <td>506.000000</td>\n",
              "      <td>506.000000</td>\n",
              "      <td>506.000000</td>\n",
              "      <td>506.000000</td>\n",
              "      <td>506.000000</td>\n",
              "      <td>506.000000</td>\n",
              "      <td>506.000000</td>\n",
              "      <td>506.000000</td>\n",
              "      <td>506.000000</td>\n",
              "      <td>506.000000</td>\n",
              "      <td>506.000000</td>\n",
              "      <td>506.000000</td>\n",
              "      <td>506.000000</td>\n",
              "      <td>506.000000</td>\n",
              "    </tr>\n",
              "    <tr>\n",
              "      <th>mean</th>\n",
              "      <td>3.613524</td>\n",
              "      <td>11.363636</td>\n",
              "      <td>11.136779</td>\n",
              "      <td>0.069170</td>\n",
              "      <td>0.554695</td>\n",
              "      <td>6.284634</td>\n",
              "      <td>68.574901</td>\n",
              "      <td>3.795043</td>\n",
              "      <td>9.549407</td>\n",
              "      <td>408.237154</td>\n",
              "      <td>18.455534</td>\n",
              "      <td>356.674032</td>\n",
              "      <td>12.653063</td>\n",
              "      <td>22.532806</td>\n",
              "    </tr>\n",
              "    <tr>\n",
              "      <th>std</th>\n",
              "      <td>8.601545</td>\n",
              "      <td>23.322453</td>\n",
              "      <td>6.860353</td>\n",
              "      <td>0.253994</td>\n",
              "      <td>0.115878</td>\n",
              "      <td>0.702617</td>\n",
              "      <td>28.148861</td>\n",
              "      <td>2.105710</td>\n",
              "      <td>8.707259</td>\n",
              "      <td>168.537116</td>\n",
              "      <td>2.164946</td>\n",
              "      <td>91.294864</td>\n",
              "      <td>7.141062</td>\n",
              "      <td>9.197104</td>\n",
              "    </tr>\n",
              "    <tr>\n",
              "      <th>min</th>\n",
              "      <td>0.006320</td>\n",
              "      <td>0.000000</td>\n",
              "      <td>0.460000</td>\n",
              "      <td>0.000000</td>\n",
              "      <td>0.385000</td>\n",
              "      <td>3.561000</td>\n",
              "      <td>2.900000</td>\n",
              "      <td>1.129600</td>\n",
              "      <td>1.000000</td>\n",
              "      <td>187.000000</td>\n",
              "      <td>12.600000</td>\n",
              "      <td>0.320000</td>\n",
              "      <td>1.730000</td>\n",
              "      <td>5.000000</td>\n",
              "    </tr>\n",
              "    <tr>\n",
              "      <th>25%</th>\n",
              "      <td>0.082045</td>\n",
              "      <td>0.000000</td>\n",
              "      <td>5.190000</td>\n",
              "      <td>0.000000</td>\n",
              "      <td>0.449000</td>\n",
              "      <td>5.885500</td>\n",
              "      <td>45.025000</td>\n",
              "      <td>2.100175</td>\n",
              "      <td>4.000000</td>\n",
              "      <td>279.000000</td>\n",
              "      <td>17.400000</td>\n",
              "      <td>375.377500</td>\n",
              "      <td>6.950000</td>\n",
              "      <td>17.025000</td>\n",
              "    </tr>\n",
              "    <tr>\n",
              "      <th>50%</th>\n",
              "      <td>0.256510</td>\n",
              "      <td>0.000000</td>\n",
              "      <td>9.690000</td>\n",
              "      <td>0.000000</td>\n",
              "      <td>0.538000</td>\n",
              "      <td>6.208500</td>\n",
              "      <td>77.500000</td>\n",
              "      <td>3.207450</td>\n",
              "      <td>5.000000</td>\n",
              "      <td>330.000000</td>\n",
              "      <td>19.050000</td>\n",
              "      <td>391.440000</td>\n",
              "      <td>11.360000</td>\n",
              "      <td>21.200000</td>\n",
              "    </tr>\n",
              "    <tr>\n",
              "      <th>75%</th>\n",
              "      <td>3.677083</td>\n",
              "      <td>12.500000</td>\n",
              "      <td>18.100000</td>\n",
              "      <td>0.000000</td>\n",
              "      <td>0.624000</td>\n",
              "      <td>6.623500</td>\n",
              "      <td>94.075000</td>\n",
              "      <td>5.188425</td>\n",
              "      <td>24.000000</td>\n",
              "      <td>666.000000</td>\n",
              "      <td>20.200000</td>\n",
              "      <td>396.225000</td>\n",
              "      <td>16.955000</td>\n",
              "      <td>25.000000</td>\n",
              "    </tr>\n",
              "    <tr>\n",
              "      <th>max</th>\n",
              "      <td>88.976200</td>\n",
              "      <td>100.000000</td>\n",
              "      <td>27.740000</td>\n",
              "      <td>1.000000</td>\n",
              "      <td>0.871000</td>\n",
              "      <td>8.780000</td>\n",
              "      <td>100.000000</td>\n",
              "      <td>12.126500</td>\n",
              "      <td>24.000000</td>\n",
              "      <td>711.000000</td>\n",
              "      <td>22.000000</td>\n",
              "      <td>396.900000</td>\n",
              "      <td>37.970000</td>\n",
              "      <td>50.000000</td>\n",
              "    </tr>\n",
              "  </tbody>\n",
              "</table>\n",
              "</div>"
            ],
            "text/plain": [
              "             CRIM          ZN       INDUS        CHAS         NOX          RM  \\\n",
              "count  506.000000  506.000000  506.000000  506.000000  506.000000  506.000000   \n",
              "mean     3.613524   11.363636   11.136779    0.069170    0.554695    6.284634   \n",
              "std      8.601545   23.322453    6.860353    0.253994    0.115878    0.702617   \n",
              "min      0.006320    0.000000    0.460000    0.000000    0.385000    3.561000   \n",
              "25%      0.082045    0.000000    5.190000    0.000000    0.449000    5.885500   \n",
              "50%      0.256510    0.000000    9.690000    0.000000    0.538000    6.208500   \n",
              "75%      3.677083   12.500000   18.100000    0.000000    0.624000    6.623500   \n",
              "max     88.976200  100.000000   27.740000    1.000000    0.871000    8.780000   \n",
              "\n",
              "              AGE         DIS         RAD         TAX     PTRATIO           B  \\\n",
              "count  506.000000  506.000000  506.000000  506.000000  506.000000  506.000000   \n",
              "mean    68.574901    3.795043    9.549407  408.237154   18.455534  356.674032   \n",
              "std     28.148861    2.105710    8.707259  168.537116    2.164946   91.294864   \n",
              "min      2.900000    1.129600    1.000000  187.000000   12.600000    0.320000   \n",
              "25%     45.025000    2.100175    4.000000  279.000000   17.400000  375.377500   \n",
              "50%     77.500000    3.207450    5.000000  330.000000   19.050000  391.440000   \n",
              "75%     94.075000    5.188425   24.000000  666.000000   20.200000  396.225000   \n",
              "max    100.000000   12.126500   24.000000  711.000000   22.000000  396.900000   \n",
              "\n",
              "            LSTAT  house_prices  \n",
              "count  506.000000    506.000000  \n",
              "mean    12.653063     22.532806  \n",
              "std      7.141062      9.197104  \n",
              "min      1.730000      5.000000  \n",
              "25%      6.950000     17.025000  \n",
              "50%     11.360000     21.200000  \n",
              "75%     16.955000     25.000000  \n",
              "max     37.970000     50.000000  "
            ]
          },
          "execution_count": 295,
          "metadata": {},
          "output_type": "execute_result"
        }
      ],
      "source": [
        "#quick account of statistical information of your dataframe\n",
        "df_boston.describe() #this one is different from the boston.DESCR function that we applied earlier"
      ]
    },
    {
      "cell_type": "code",
      "execution_count": 296,
      "metadata": {
        "colab": {
          "base_uri": "https://localhost:8080/"
        },
        "id": "7-tBgA_8a2Q6",
        "outputId": "2effa0f2-bee0-48ea-8042-441141b4823e"
      },
      "outputs": [
        {
          "data": {
            "text/plain": [
              "Index(['CRIM', 'ZN', 'INDUS', 'CHAS', 'NOX', 'RM', 'AGE', 'DIS', 'RAD', 'TAX',\n",
              "       'PTRATIO', 'B', 'LSTAT', 'house_prices'],\n",
              "      dtype='object')"
            ]
          },
          "execution_count": 296,
          "metadata": {},
          "output_type": "execute_result"
        }
      ],
      "source": [
        "#allows you to see all the features and the target \n",
        "df_boston.columns"
      ]
    },
    {
      "cell_type": "code",
      "execution_count": 297,
      "metadata": {
        "id": "lRMWzvzsa2Q7"
      },
      "outputs": [],
      "source": [
        "#The first visualization, that I won't actually run, is the pairplot from seaborn --> it creates histograms and correlation scatter plots, which allows you to see how different columns are correlated with each other\n",
        "# sns.pairplot(df_boston)\n",
        "#For the sake of time, I won't run this function because it may take a while for all the plots to load in since we have so many features in our data, you can try it out if you are interested in seeing how it looks and works, but I \n",
        "#wouldn't recommend it for large datasets like these. \n",
        "# This is because for larger datasets with a lot of features, it may take a while for it to run and since there will be so many plots and histograms as the output, it'll be fairly difficult\n",
        "# to actually interpret them and make any sense of the data because the outputted plots will be very small\n",
        "#But, if you do use a smaller dataset for a different use case, then this pairplot can be a great tool "
      ]
    },
    {
      "cell_type": "code",
      "execution_count": 298,
      "metadata": {
        "colab": {
          "base_uri": "https://localhost:8080/",
          "height": 351
        },
        "id": "1NJcELpEa2Q7",
        "outputId": "f45d0ce6-2a95-4fd6-8072-fa4aee6690ef"
      },
      "outputs": [
        {
          "data": {
            "text/plain": [
              "<seaborn.axisgrid.FacetGrid at 0x25508d8cac0>"
            ]
          },
          "execution_count": 298,
          "metadata": {},
          "output_type": "execute_result"
        },
        {
          "data": {
            "image/png": "[encoded data removed]",
            "text/plain": [
              "<Figure size 360x360 with 1 Axes>"
            ]
          },
          "metadata": {
            "needs_background": "light"
          },
          "output_type": "display_data"
        }
      ],
      "source": [
        "#generally, you want to check the distribution of your target column (what we're trying to predict, and here we're trying to predict the price of the house), and we can do that using:\n",
        "sns.displot(df_boston['house_prices'])\n",
        "#looks like the average price is falling somewhere around the $15,000 to $20,000 price point \n",
        "#the data looks somewhat normally distributed in some areas, generally it's good to have your targets be normally distributed but that won't always be the case "
      ]
    },
    {
      "cell_type": "code",
      "execution_count": 299,
      "metadata": {
        "colab": {
          "base_uri": "https://localhost:8080/",
          "height": 483
        },
        "id": "FDvJNe_da2Q7",
        "outputId": "96662bbb-387f-4839-f30b-27bf20bcea93"
      },
      "outputs": [
        {
          "data": {
            "text/html": [
              "<div>\n",
              "<style scoped>\n",
              "    .dataframe tbody tr th:only-of-type {\n",
              "        vertical-align: middle;\n",
              "    }\n",
              "\n",
              "    .dataframe tbody tr th {\n",
              "        vertical-align: top;\n",
              "    }\n",
              "\n",
              "    .dataframe thead th {\n",
              "        text-align: right;\n",
              "    }\n",
              "</style>\n",
              "<table border=\"1\" class=\"dataframe\">\n",
              "  <thead>\n",
              "    <tr style=\"text-align: right;\">\n",
              "      <th></th>\n",
              "      <th>CRIM</th>\n",
              "      <th>ZN</th>\n",
              "      <th>INDUS</th>\n",
              "      <th>CHAS</th>\n",
              "      <th>NOX</th>\n",
              "      <th>RM</th>\n",
              "      <th>AGE</th>\n",
              "      <th>DIS</th>\n",
              "      <th>RAD</th>\n",
              "      <th>TAX</th>\n",
              "      <th>PTRATIO</th>\n",
              "      <th>B</th>\n",
              "      <th>LSTAT</th>\n",
              "      <th>house_prices</th>\n",
              "    </tr>\n",
              "  </thead>\n",
              "  <tbody>\n",
              "    <tr>\n",
              "      <th>CRIM</th>\n",
              "      <td>1.000000</td>\n",
              "      <td>-0.200469</td>\n",
              "      <td>0.406583</td>\n",
              "      <td>-0.055892</td>\n",
              "      <td>0.420972</td>\n",
              "      <td>-0.219247</td>\n",
              "      <td>0.352734</td>\n",
              "      <td>-0.379670</td>\n",
              "      <td>0.625505</td>\n",
              "      <td>0.582764</td>\n",
              "      <td>0.289946</td>\n",
              "      <td>-0.385064</td>\n",
              "      <td>0.455621</td>\n",
              "      <td>-0.388305</td>\n",
              "    </tr>\n",
              "    <tr>\n",
              "      <th>ZN</th>\n",
              "      <td>-0.200469</td>\n",
              "      <td>1.000000</td>\n",
              "      <td>-0.533828</td>\n",
              "      <td>-0.042697</td>\n",
              "      <td>-0.516604</td>\n",
              "      <td>0.311991</td>\n",
              "      <td>-0.569537</td>\n",
              "      <td>0.664408</td>\n",
              "      <td>-0.311948</td>\n",
              "      <td>-0.314563</td>\n",
              "      <td>-0.391679</td>\n",
              "      <td>0.175520</td>\n",
              "      <td>-0.412995</td>\n",
              "      <td>0.360445</td>\n",
              "    </tr>\n",
              "    <tr>\n",
              "      <th>INDUS</th>\n",
              "      <td>0.406583</td>\n",
              "      <td>-0.533828</td>\n",
              "      <td>1.000000</td>\n",
              "      <td>0.062938</td>\n",
              "      <td>0.763651</td>\n",
              "      <td>-0.391676</td>\n",
              "      <td>0.644779</td>\n",
              "      <td>-0.708027</td>\n",
              "      <td>0.595129</td>\n",
              "      <td>0.720760</td>\n",
              "      <td>0.383248</td>\n",
              "      <td>-0.356977</td>\n",
              "      <td>0.603800</td>\n",
              "      <td>-0.483725</td>\n",
              "    </tr>\n",
              "    <tr>\n",
              "      <th>CHAS</th>\n",
              "      <td>-0.055892</td>\n",
              "      <td>-0.042697</td>\n",
              "      <td>0.062938</td>\n",
              "      <td>1.000000</td>\n",
              "      <td>0.091203</td>\n",
              "      <td>0.091251</td>\n",
              "      <td>0.086518</td>\n",
              "      <td>-0.099176</td>\n",
              "      <td>-0.007368</td>\n",
              "      <td>-0.035587</td>\n",
              "      <td>-0.121515</td>\n",
              "      <td>0.048788</td>\n",
              "      <td>-0.053929</td>\n",
              "      <td>0.175260</td>\n",
              "    </tr>\n",
              "    <tr>\n",
              "      <th>NOX</th>\n",
              "      <td>0.420972</td>\n",
              "      <td>-0.516604</td>\n",
              "      <td>0.763651</td>\n",
              "      <td>0.091203</td>\n",
              "      <td>1.000000</td>\n",
              "      <td>-0.302188</td>\n",
              "      <td>0.731470</td>\n",
              "      <td>-0.769230</td>\n",
              "      <td>0.611441</td>\n",
              "      <td>0.668023</td>\n",
              "      <td>0.188933</td>\n",
              "      <td>-0.380051</td>\n",
              "      <td>0.590879</td>\n",
              "      <td>-0.427321</td>\n",
              "    </tr>\n",
              "    <tr>\n",
              "      <th>RM</th>\n",
              "      <td>-0.219247</td>\n",
              "      <td>0.311991</td>\n",
              "      <td>-0.391676</td>\n",
              "      <td>0.091251</td>\n",
              "      <td>-0.302188</td>\n",
              "      <td>1.000000</td>\n",
              "      <td>-0.240265</td>\n",
              "      <td>0.205246</td>\n",
              "      <td>-0.209847</td>\n",
              "      <td>-0.292048</td>\n",
              "      <td>-0.355501</td>\n",
              "      <td>0.128069</td>\n",
              "      <td>-0.613808</td>\n",
              "      <td>0.695360</td>\n",
              "    </tr>\n",
              "    <tr>\n",
              "      <th>AGE</th>\n",
              "      <td>0.352734</td>\n",
              "      <td>-0.569537</td>\n",
              "      <td>0.644779</td>\n",
              "      <td>0.086518</td>\n",
              "      <td>0.731470</td>\n",
              "      <td>-0.240265</td>\n",
              "      <td>1.000000</td>\n",
              "      <td>-0.747881</td>\n",
              "      <td>0.456022</td>\n",
              "      <td>0.506456</td>\n",
              "      <td>0.261515</td>\n",
              "      <td>-0.273534</td>\n",
              "      <td>0.602339</td>\n",
              "      <td>-0.376955</td>\n",
              "    </tr>\n",
              "    <tr>\n",
              "      <th>DIS</th>\n",
              "      <td>-0.379670</td>\n",
              "      <td>0.664408</td>\n",
              "      <td>-0.708027</td>\n",
              "      <td>-0.099176</td>\n",
              "      <td>-0.769230</td>\n",
              "      <td>0.205246</td>\n",
              "      <td>-0.747881</td>\n",
              "      <td>1.000000</td>\n",
              "      <td>-0.494588</td>\n",
              "      <td>-0.534432</td>\n",
              "      <td>-0.232471</td>\n",
              "      <td>0.291512</td>\n",
              "      <td>-0.496996</td>\n",
              "      <td>0.249929</td>\n",
              "    </tr>\n",
              "    <tr>\n",
              "      <th>RAD</th>\n",
              "      <td>0.625505</td>\n",
              "      <td>-0.311948</td>\n",
              "      <td>0.595129</td>\n",
              "      <td>-0.007368</td>\n",
              "      <td>0.611441</td>\n",
              "      <td>-0.209847</td>\n",
              "      <td>0.456022</td>\n",
              "      <td>-0.494588</td>\n",
              "      <td>1.000000</td>\n",
              "      <td>0.910228</td>\n",
              "      <td>0.464741</td>\n",
              "      <td>-0.444413</td>\n",
              "      <td>0.488676</td>\n",
              "      <td>-0.381626</td>\n",
              "    </tr>\n",
              "    <tr>\n",
              "      <th>TAX</th>\n",
              "      <td>0.582764</td>\n",
              "      <td>-0.314563</td>\n",
              "      <td>0.720760</td>\n",
              "      <td>-0.035587</td>\n",
              "      <td>0.668023</td>\n",
              "      <td>-0.292048</td>\n",
              "      <td>0.506456</td>\n",
              "      <td>-0.534432</td>\n",
              "      <td>0.910228</td>\n",
              "      <td>1.000000</td>\n",
              "      <td>0.460853</td>\n",
              "      <td>-0.441808</td>\n",
              "      <td>0.543993</td>\n",
              "      <td>-0.468536</td>\n",
              "    </tr>\n",
              "    <tr>\n",
              "      <th>PTRATIO</th>\n",
              "      <td>0.289946</td>\n",
              "      <td>-0.391679</td>\n",
              "      <td>0.383248</td>\n",
              "      <td>-0.121515</td>\n",
              "      <td>0.188933</td>\n",
              "      <td>-0.355501</td>\n",
              "      <td>0.261515</td>\n",
              "      <td>-0.232471</td>\n",
              "      <td>0.464741</td>\n",
              "      <td>0.460853</td>\n",
              "      <td>1.000000</td>\n",
              "      <td>-0.177383</td>\n",
              "      <td>0.374044</td>\n",
              "      <td>-0.507787</td>\n",
              "    </tr>\n",
              "    <tr>\n",
              "      <th>B</th>\n",
              "      <td>-0.385064</td>\n",
              "      <td>0.175520</td>\n",
              "      <td>-0.356977</td>\n",
              "      <td>0.048788</td>\n",
              "      <td>-0.380051</td>\n",
              "      <td>0.128069</td>\n",
              "      <td>-0.273534</td>\n",
              "      <td>0.291512</td>\n",
              "      <td>-0.444413</td>\n",
              "      <td>-0.441808</td>\n",
              "      <td>-0.177383</td>\n",
              "      <td>1.000000</td>\n",
              "      <td>-0.366087</td>\n",
              "      <td>0.333461</td>\n",
              "    </tr>\n",
              "    <tr>\n",
              "      <th>LSTAT</th>\n",
              "      <td>0.455621</td>\n",
              "      <td>-0.412995</td>\n",
              "      <td>0.603800</td>\n",
              "      <td>-0.053929</td>\n",
              "      <td>0.590879</td>\n",
              "      <td>-0.613808</td>\n",
              "      <td>0.602339</td>\n",
              "      <td>-0.496996</td>\n",
              "      <td>0.488676</td>\n",
              "      <td>0.543993</td>\n",
              "      <td>0.374044</td>\n",
              "      <td>-0.366087</td>\n",
              "      <td>1.000000</td>\n",
              "      <td>-0.737663</td>\n",
              "    </tr>\n",
              "    <tr>\n",
              "      <th>house_prices</th>\n",
              "      <td>-0.388305</td>\n",
              "      <td>0.360445</td>\n",
              "      <td>-0.483725</td>\n",
              "      <td>0.175260</td>\n",
              "      <td>-0.427321</td>\n",
              "      <td>0.695360</td>\n",
              "      <td>-0.376955</td>\n",
              "      <td>0.249929</td>\n",
              "      <td>-0.381626</td>\n",
              "      <td>-0.468536</td>\n",
              "      <td>-0.507787</td>\n",
              "      <td>0.333461</td>\n",
              "      <td>-0.737663</td>\n",
              "      <td>1.000000</td>\n",
              "    </tr>\n",
              "  </tbody>\n",
              "</table>\n",
              "</div>"
            ],
            "text/plain": [
              "                  CRIM        ZN     INDUS      CHAS       NOX        RM  \\\n",
              "CRIM          1.000000 -0.200469  0.406583 -0.055892  0.420972 -0.219247   \n",
              "ZN           -0.200469  1.000000 -0.533828 -0.042697 -0.516604  0.311991   \n",
              "INDUS         0.406583 -0.533828  1.000000  0.062938  0.763651 -0.391676   \n",
              "CHAS         -0.055892 -0.042697  0.062938  1.000000  0.091203  0.091251   \n",
              "NOX           0.420972 -0.516604  0.763651  0.091203  1.000000 -0.302188   \n",
              "RM           -0.219247  0.311991 -0.391676  0.091251 -0.302188  1.000000   \n",
              "AGE           0.352734 -0.569537  0.644779  0.086518  0.731470 -0.240265   \n",
              "DIS          -0.379670  0.664408 -0.708027 -0.099176 -0.769230  0.205246   \n",
              "RAD           0.625505 -0.311948  0.595129 -0.007368  0.611441 -0.209847   \n",
              "TAX           0.582764 -0.314563  0.720760 -0.035587  0.668023 -0.292048   \n",
              "PTRATIO       0.289946 -0.391679  0.383248 -0.121515  0.188933 -0.355501   \n",
              "B            -0.385064  0.175520 -0.356977  0.048788 -0.380051  0.128069   \n",
              "LSTAT         0.455621 -0.412995  0.603800 -0.053929  0.590879 -0.613808   \n",
              "house_prices -0.388305  0.360445 -0.483725  0.175260 -0.427321  0.695360   \n",
              "\n",
              "                   AGE       DIS       RAD       TAX   PTRATIO         B  \\\n",
              "CRIM          0.352734 -0.379670  0.625505  0.582764  0.289946 -0.385064   \n",
              "ZN           -0.569537  0.664408 -0.311948 -0.314563 -0.391679  0.175520   \n",
              "INDUS         0.644779 -0.708027  0.595129  0.720760  0.383248 -0.356977   \n",
              "CHAS          0.086518 -0.099176 -0.007368 -0.035587 -0.121515  0.048788   \n",
              "NOX           0.731470 -0.769230  0.611441  0.668023  0.188933 -0.380051   \n",
              "RM           -0.240265  0.205246 -0.209847 -0.292048 -0.355501  0.128069   \n",
              "AGE           1.000000 -0.747881  0.456022  0.506456  0.261515 -0.273534   \n",
              "DIS          -0.747881  1.000000 -0.494588 -0.534432 -0.232471  0.291512   \n",
              "RAD           0.456022 -0.494588  1.000000  0.910228  0.464741 -0.444413   \n",
              "TAX           0.506456 -0.534432  0.910228  1.000000  0.460853 -0.441808   \n",
              "PTRATIO       0.261515 -0.232471  0.464741  0.460853  1.000000 -0.177383   \n",
              "B            -0.273534  0.291512 -0.444413 -0.441808 -0.177383  1.000000   \n",
              "LSTAT         0.602339 -0.496996  0.488676  0.543993  0.374044 -0.366087   \n",
              "house_prices -0.376955  0.249929 -0.381626 -0.468536 -0.507787  0.333461   \n",
              "\n",
              "                 LSTAT  house_prices  \n",
              "CRIM          0.455621     -0.388305  \n",
              "ZN           -0.412995      0.360445  \n",
              "INDUS         0.603800     -0.483725  \n",
              "CHAS         -0.053929      0.175260  \n",
              "NOX           0.590879     -0.427321  \n",
              "RM           -0.613808      0.695360  \n",
              "AGE           0.602339     -0.376955  \n",
              "DIS          -0.496996      0.249929  \n",
              "RAD           0.488676     -0.381626  \n",
              "TAX           0.543993     -0.468536  \n",
              "PTRATIO       0.374044     -0.507787  \n",
              "B            -0.366087      0.333461  \n",
              "LSTAT         1.000000     -0.737663  \n",
              "house_prices -0.737663      1.000000  "
            ]
          },
          "execution_count": 299,
          "metadata": {},
          "output_type": "execute_result"
        }
      ],
      "source": [
        "#another interesting visualization that you may want to do with your dataset is to create a heatmap of the correlation between all the columns \n",
        "#let's start by actually making matrix of the correlation values between our features, and we can do this by saying \n",
        "#this matrix shows you correlation between all of the columns \n",
        "df_boston.corr()"
      ]
    },
    {
      "cell_type": "code",
      "execution_count": 300,
      "metadata": {
        "colab": {
          "base_uri": "https://localhost:8080/",
          "height": 342
        },
        "id": "WBIrLgEOa2Q8",
        "outputId": "8c40310e-aeb9-4ffa-9295-bfb5f8407c28"
      },
      "outputs": [
        {
          "data": {
            "text/plain": [
              "<AxesSubplot:>"
            ]
          },
          "execution_count": 300,
          "metadata": {},
          "output_type": "execute_result"
        },
        {
          "data": {
            "image/png": "[encoded data removed]",
            "text/plain": [
              "<Figure size 432x288 with 2 Axes>"
            ]
          },
          "metadata": {
            "needs_background": "light"
          },
          "output_type": "display_data"
        }
      ],
      "source": [
        "#we can then plot out these correlations using the heatmap, let's do this with:\n",
        "sns.heatmap(df_boston.corr())\n",
        "#here we can see a diagonal of full correlation, and this makes sense since every column should be completely correlated with itself \n",
        "#we can also see information and correlations between different columns as well"
      ]
    },
    {
      "cell_type": "code",
      "execution_count": 301,
      "metadata": {
        "colab": {
          "base_uri": "https://localhost:8080/"
        },
        "id": "GOzZPGIaa2Q8",
        "outputId": "4a28d977-810d-466f-cd69-65a9db454520"
      },
      "outputs": [
        {
          "data": {
            "text/plain": [
              "Index(['CRIM', 'ZN', 'INDUS', 'CHAS', 'NOX', 'RM', 'AGE', 'DIS', 'RAD', 'TAX',\n",
              "       'PTRATIO', 'B', 'LSTAT', 'house_prices'],\n",
              "      dtype='object')"
            ]
          },
          "execution_count": 301,
          "metadata": {},
          "output_type": "execute_result"
        }
      ],
      "source": [
        "#now that we've gone over some basic EDA and visualizations, let's get starting with the model training process. We'll first need to split our data into X and y arrays, and I'll show you what that means in sec\n",
        "#before we do that, let's just to get a quick recap on all of our columns, we can grab the column names by passing in: \n",
        "df_boston.columns"
      ]
    },
    {
      "cell_type": "code",
      "execution_count": 302,
      "metadata": {
        "id": "M9lRf5oma2Q8"
      },
      "outputs": [],
      "source": [
        "#Now let's get to splitting our data into X and y arrays: the X array will only contain the feature columns (or the independent variables) that the model will train on,\n",
        "#and the y array will contain the target variable that the model will try to predict --> our house_prices column \n",
        "X = df_boston.drop('house_prices', axis = 1) #axis = 1 means column wise\n",
        "y = df_boston['house_prices'] #putting only the prices here"
      ]
    },
    {
      "cell_type": "markdown",
      "metadata": {
        "id": "-Uyz3ydLb6kD"
      },
      "source": [
        "## Model Training\n"
      ]
    },
    {
      "cell_type": "code",
      "execution_count": 303,
      "metadata": {
        "id": "Jp6dXQ45a2Q8"
      },
      "outputs": [],
      "source": [
        "#now that we have our features and target data split and set up, let's shift to using scikitlearn to actually train our linear regression model \n",
        "#the first thing want to do is perform a train_test_split on our data\n",
        "#we want to split our data into a training set to train and allow our model to learn from the data, and a test set to evaluate or validate our model once it's been trained \n",
        "from sklearn.model_selection import train_test_split"
      ]
    },
    {
      "cell_type": "code",
      "execution_count": 304,
      "metadata": {
        "id": "tr0s6-xLa2Q9"
      },
      "outputs": [],
      "source": [
        "#with the train_test_split function, what we're essentially going to do is we're going to pass in our X and y data, and then we'll specify a test size\n",
        "#test_size = 0.4 is essentially saying that we want 40% of our data to be allocated to evaluating or testing our model\n",
        "#that means we want 60% of our data to be allocated for training our model\n",
        "#you can also do 0.3, 0.2 (those percentages are also commonly used), but it's pretty much up to you on how much data you want to train your model with and how much you want to test the model with, and you can play around with that \n",
        "\n",
        "#the random state parameter is optional\n",
        "#what random state is doing is it essentially ensures a specific set of random splits on your data --> because train test split occurs randomly\n",
        "#in order to make sure that your random split is the same as my random split, set it to 101\n",
        "X_train, X_test, y_train, y_test = train_test_split(X, y, test_size=0.4, random_state=101)\n",
        "#Random state is setting a seed, so that it will take same random elements for anyone who uses this code"
      ]
    },
    {
      "cell_type": "code",
      "execution_count": 305,
      "metadata": {
        "id": "bSREEIA6a2Q_"
      },
      "outputs": [],
      "source": [
        "from sklearn.linear_model import LinearRegression\n",
        "#The Most IMPORTANT IMPORT"
      ]
    },
    {
      "cell_type": "code",
      "execution_count": 306,
      "metadata": {
        "id": "V1fLbGFYa2RA"
      },
      "outputs": [],
      "source": [
        "#now we want to instantiate an instance of the LinearRegression model --> we're basically creating a LinearRegression object\n",
        "model = LinearRegression()"
      ]
    },
    {
      "cell_type": "code",
      "execution_count": 307,
      "metadata": {
        "colab": {
          "base_uri": "https://localhost:8080/"
        },
        "id": "J33x8nFCa2RA",
        "outputId": "4eac8847-78ad-42b7-f447-9faf1bee5fba"
      },
      "outputs": [
        {
          "data": {
            "text/plain": [
              "LinearRegression()"
            ]
          },
          "execution_count": 307,
          "metadata": {},
          "output_type": "execute_result"
        }
      ],
      "source": [
        "#using the fit function to train or fit the linear regression model on the training data \n",
        "model.fit(X_train,y_train)\n",
        "#notice that we are getting an output that tells us that the linear regression model has been trained "
      ]
    },
    {
      "cell_type": "code",
      "execution_count": 308,
      "metadata": {
        "id": "17RJpB9na2RA"
      },
      "outputs": [
        {
          "name": "stdout",
          "output_type": "stream",
          "text": [
            "41.281496544738026\n"
          ]
        }
      ],
      "source": [
        "#now that we've finished training the model, let's evaluate it by checking its coefficients and seeing how we can interpret them \n",
        "print(model.intercept_)"
      ]
    },
    {
      "cell_type": "code",
      "execution_count": 309,
      "metadata": {
        "colab": {
          "base_uri": "https://localhost:8080/"
        },
        "id": "QJH18Atra2RA",
        "outputId": "dfd75c2e-37e5-4a40-b893-ec85851d86d1"
      },
      "outputs": [
        {
          "data": {
            "text/plain": [
              "array([-7.75583711e-02,  4.20310157e-02,  9.11529473e-02,  4.13304932e+00,\n",
              "       -1.99765575e+01,  2.89019042e+00,  1.61533256e-02, -1.26474745e+00,\n",
              "        2.60170760e-01, -1.11251993e-02, -8.80555502e-01,  7.02445445e-03,\n",
              "       -6.43482813e-01])"
            ]
          },
          "execution_count": 309,
          "metadata": {},
          "output_type": "execute_result"
        }
      ],
      "source": [
        "#we can grab our coefficient values for each feature by saying:\n",
        "model.coef_"
      ]
    },
    {
      "cell_type": "code",
      "execution_count": 310,
      "metadata": {
        "id": "5eObjQ0Ta2RB"
      },
      "outputs": [],
      "source": [
        "#So when we are creating a dataframe for coefficients: we're passing in coeffcients as the data and our feature columns as the indexes. We'll do this by saying: \n",
        "cdf = pd.DataFrame(model.coef_, X.columns, columns = ['Coeff'] )\n",
        "#let's see how this looks like "
      ]
    },
    {
      "cell_type": "code",
      "execution_count": 311,
      "metadata": {
        "colab": {
          "base_uri": "https://localhost:8080/",
          "height": 452
        },
        "id": "1nSPVf1Ia2RB",
        "outputId": "1b55bd2d-0ed5-4b5a-d7cc-04ef1f43d03b"
      },
      "outputs": [
        {
          "data": {
            "text/html": [
              "<div>\n",
              "<style scoped>\n",
              "    .dataframe tbody tr th:only-of-type {\n",
              "        vertical-align: middle;\n",
              "    }\n",
              "\n",
              "    .dataframe tbody tr th {\n",
              "        vertical-align: top;\n",
              "    }\n",
              "\n",
              "    .dataframe thead th {\n",
              "        text-align: right;\n",
              "    }\n",
              "</style>\n",
              "<table border=\"1\" class=\"dataframe\">\n",
              "  <thead>\n",
              "    <tr style=\"text-align: right;\">\n",
              "      <th></th>\n",
              "      <th>Coeff</th>\n",
              "    </tr>\n",
              "  </thead>\n",
              "  <tbody>\n",
              "    <tr>\n",
              "      <th>CRIM</th>\n",
              "      <td>-0.077558</td>\n",
              "    </tr>\n",
              "    <tr>\n",
              "      <th>ZN</th>\n",
              "      <td>0.042031</td>\n",
              "    </tr>\n",
              "    <tr>\n",
              "      <th>INDUS</th>\n",
              "      <td>0.091153</td>\n",
              "    </tr>\n",
              "    <tr>\n",
              "      <th>CHAS</th>\n",
              "      <td>4.133049</td>\n",
              "    </tr>\n",
              "    <tr>\n",
              "      <th>NOX</th>\n",
              "      <td>-19.976557</td>\n",
              "    </tr>\n",
              "    <tr>\n",
              "      <th>RM</th>\n",
              "      <td>2.890190</td>\n",
              "    </tr>\n",
              "    <tr>\n",
              "      <th>AGE</th>\n",
              "      <td>0.016153</td>\n",
              "    </tr>\n",
              "    <tr>\n",
              "      <th>DIS</th>\n",
              "      <td>-1.264747</td>\n",
              "    </tr>\n",
              "    <tr>\n",
              "      <th>RAD</th>\n",
              "      <td>0.260171</td>\n",
              "    </tr>\n",
              "    <tr>\n",
              "      <th>TAX</th>\n",
              "      <td>-0.011125</td>\n",
              "    </tr>\n",
              "    <tr>\n",
              "      <th>PTRATIO</th>\n",
              "      <td>-0.880556</td>\n",
              "    </tr>\n",
              "    <tr>\n",
              "      <th>B</th>\n",
              "      <td>0.007024</td>\n",
              "    </tr>\n",
              "    <tr>\n",
              "      <th>LSTAT</th>\n",
              "      <td>-0.643483</td>\n",
              "    </tr>\n",
              "  </tbody>\n",
              "</table>\n",
              "</div>"
            ],
            "text/plain": [
              "             Coeff\n",
              "CRIM     -0.077558\n",
              "ZN        0.042031\n",
              "INDUS     0.091153\n",
              "CHAS      4.133049\n",
              "NOX     -19.976557\n",
              "RM        2.890190\n",
              "AGE       0.016153\n",
              "DIS      -1.264747\n",
              "RAD       0.260171\n",
              "TAX      -0.011125\n",
              "PTRATIO  -0.880556\n",
              "B         0.007024\n",
              "LSTAT    -0.643483"
            ]
          },
          "execution_count": 311,
          "metadata": {},
          "output_type": "execute_result"
        }
      ],
      "source": [
        "cdf\n",
        "#This is how we can interpret the coefficients, I'll do this with an example: let's look at the \n",
        "#basically, if we hold all other features fixed/constant, a one unit increase in ZN is associated with an increase of 0.04 in the price (40 dollar increase in price)\n",
        "#and that concludes this first part of the Python Linear Regression implementation. In the next video, we'll go over how to make predictions with our Linear Regression model and evaluate them. \n",
        "#Thanks for watching, and I'll see you then "
      ]
    },
    {
      "cell_type": "markdown",
      "metadata": {
        "id": "4aRV-_A0a2RB"
      },
      "source": [
        "## Making Predictions"
      ]
    },
    {
      "cell_type": "code",
      "execution_count": 312,
      "metadata": {
        "id": "8YZdQtjGa2RC"
      },
      "outputs": [],
      "source": [
        "#The first thing we're going to do is grab predictions from our test feature set, and so we'll need X_test do to this. \n",
        "#Just to clarify and review from last time, X_train was used to train and fit our model to our features.\n",
        "#With X_test, we'll be passing in feature data that the model has never seen before, and we're asking the model to make predictions based on these features (remember that X_test that contains just the feature columns)\n",
        "#We can obtain our model's predictions by passing in:\n",
        "predictions = model.predict(X_test)"
      ]
    },
    {
      "cell_type": "code",
      "execution_count": 313,
      "metadata": {
        "colab": {
          "base_uri": "https://localhost:8080/"
        },
        "id": "CupikZWTa2RC",
        "outputId": "06b974ca-8204-40e2-f0df-da578412ebfe"
      },
      "outputs": [
        {
          "data": {
            "text/plain": [
              "array([38.76995104, 27.39271318, 16.26805601, 16.64592872, 30.5945708 ,\n",
              "       31.37975753, 37.68282481,  7.57986744, 33.62371472,  6.94206736,\n",
              "       30.00015138, 13.74184077, 16.41357803, 17.5975484 , 24.92452314,\n",
              "       20.61277162,  6.84027833, 32.74459645, 28.14176473, 24.87051184,\n",
              "       12.01460369, 19.89597528, 22.93223855, 24.84808083, 33.41944923,\n",
              "       18.2663553 , 32.40616206, 19.07263109, 27.85446156, 33.36724349,\n",
              "       20.31071184, 18.71427039, 36.3942392 , 43.97914411, 28.53636198,\n",
              "       22.23810379, 15.23341286, 18.4441601 ,  2.99896469, 30.75373687,\n",
              "       23.98495287, 17.65233987, 33.49269972, 13.72450288, 17.45026475,\n",
              "       25.3864821 , 29.9370352 , 16.43822597, 27.0157306 , 23.23886475,\n",
              "       31.8958797 , 36.8917952 , 22.96758436, 18.06656811, 30.34602124,\n",
              "       -0.30828515, 19.8446382 , 16.6131071 , 23.63902347, 21.26225918,\n",
              "       29.69766593,  3.14282554, 16.86387632, 19.76329036,  9.71050797,\n",
              "       24.21870511, 24.27695942, 19.87071765, 17.16247142, 19.85216234,\n",
              "       23.74078001, 21.56791537, 23.14099313, 20.54638573, 27.77053085,\n",
              "       21.2590119 , 36.87579928,  8.05035628, 28.9146871 , 16.70037511,\n",
              "       15.70980238, 19.14484394, 29.65683713, 16.86617546, 10.15073018,\n",
              "       21.34814159, 21.81482232, 32.18098353, 22.24314075, 21.75449868,\n",
              "       12.50117018, 10.64264803, 22.59103858, 32.00987194,  5.75604165,\n",
              "       34.05952126,  7.04112579, 31.53788515,  9.02176123, 21.19511453,\n",
              "       32.37147301, 21.32823602, 27.19438339, 24.91207186, 23.08174295,\n",
              "       24.76969659, 24.77145042, 30.14032582, 36.63344929, 32.59298802,\n",
              "       23.27852444, 35.5111093 , 24.17973314, 22.05040637, 29.57566524,\n",
              "       26.94598149, 28.86934886, 30.98598123, 26.77898549, 28.83037557,\n",
              "       16.05739187, 20.89220193, 21.91047939, 36.88601261, 25.01402328,\n",
              "       23.53157107, 15.12274061,  5.50883218, 14.14631563, 23.87422049,\n",
              "       26.85906918, 33.17708597, 24.22078613, 19.60743115, 24.54377589,\n",
              "       26.24871922, 30.8997013 , 26.2619873 , 33.44890707, 23.05544279,\n",
              "       12.12838356, 35.44082938, 31.79591619, 16.5997814 , 25.17956469,\n",
              "       19.77417177, 20.07188943, 24.67905941, 26.64881616, 29.50609111,\n",
              "       16.87246772, 16.25039628, 40.96167542, 36.18058639, 22.00214486,\n",
              "       21.47973172, 23.48638653, 12.67663095, 20.83340172, 24.99555373,\n",
              "       19.27796673, 29.13806185, 40.15324017, 22.1316772 , 26.14454982,\n",
              "       23.02029457, 18.61562996, 30.48499643, 17.42381182, 10.92515821,\n",
              "       18.66294924, 33.26084439, 34.96275041, 20.74820685,  1.70547647,\n",
              "       18.03065088, 27.34915728, 18.06414053, 28.56520062, 24.41093319,\n",
              "       27.53096541, 20.55435421, 22.62919622, 37.78233999, 26.87713512,\n",
              "       37.38740447, 25.79142163, 14.81336505, 22.11034091, 17.09095927,\n",
              "       25.08768209, 35.57385009,  8.21251303, 20.29558413, 19.03028948,\n",
              "       26.45168363, 24.24592238, 18.52485619, 21.43469229, 35.01450733,\n",
              "       20.96970996, 23.6978562 , 28.08966447])"
            ]
          },
          "execution_count": 313,
          "metadata": {},
          "output_type": "execute_result"
        }
      ],
      "source": [
        "#let's now see what our predictions look like by just passing in:\n",
        "predictions\n",
        "#As we can see, this is an array of all the house price predictions that are made by our model. These numbers are the predicted prices of the houses based on the features. "
      ]
    },
    {
      "cell_type": "code",
      "execution_count": 314,
      "metadata": {
        "colab": {
          "base_uri": "https://localhost:8080/"
        },
        "id": "apPxgALOa2RC",
        "outputId": "29cdd433-b1d9-4c63-ae1f-8c7e106dc103"
      },
      "outputs": [
        {
          "data": {
            "text/plain": [
              "195    50.0\n",
              "4      36.2\n",
              "434    11.7\n",
              "458    14.9\n",
              "39     30.8\n",
              "       ... \n",
              "78     21.2\n",
              "160    27.0\n",
              "124    18.8\n",
              "167    23.8\n",
              "272    24.4\n",
              "Name: house_prices, Length: 203, dtype: float64"
            ]
          },
          "execution_count": 314,
          "metadata": {},
          "output_type": "execute_result"
        }
      ],
      "source": [
        "#however, we do know that the actual, correct prices of the houses is in the y_test set, which contains the target data column. We can see it by saying:\n",
        "y_test\n"
      ]
    },
    {
      "cell_type": "code",
      "execution_count": 315,
      "metadata": {
        "colab": {
          "base_uri": "https://localhost:8080/",
          "height": 282
        },
        "id": "8vjUtnOUa2RD",
        "outputId": "5fa85c28-4070-4945-93e2-fef8f30a297f"
      },
      "outputs": [
        {
          "data": {
            "text/plain": [
              "<matplotlib.collections.PathCollection at 0x25508f239a0>"
            ]
          },
          "execution_count": 315,
          "metadata": {},
          "output_type": "execute_result"
        },
        {
          "data": {
            "image/png": "[encoded data removed]",
            "text/plain": [
              "<Figure size 432x288 with 1 Axes>"
            ]
          },
          "metadata": {
            "needs_background": "light"
          },
          "output_type": "display_data"
        }
      ],
      "source": [
        "#a quick visual analysis of this is a matplotlib scatter plot. \n",
        "#As a quick review, a scatter plot graphs parits of numerical data, with one variable on each axis, in order to look for a relationship between them.4\n",
        "#If the variables are correlated, the points will fall along a line, and the better the correlation, the tighter the points will hug this line\n",
        "#In our case, we'll be passing in y_test and predictions to compare the predicted house prices and the actual house prices \n",
        "#If the scatter plot lines up fairly straight, that means our model did a fairly good job. \n",
        "#but of course if your scatter plot produces a perfect line, that means your predictions perfectly match your actual values, so a little bit off isn't too bad\n",
        "#let's create the plot by saying\n",
        "plt.scatter(y_test, predictions)\n",
        "#In our case, we can see that for the most part, the model did fairly well with the more common house prices as that imaginary line seems to be more tighter there\n",
        "#However, the model seems to have had a little more trouble with predictions for house prices with higher values. "
      ]
    },
    {
      "cell_type": "code",
      "execution_count": 316,
      "metadata": {
        "colab": {
          "base_uri": "https://localhost:8080/",
          "height": 351
        },
        "id": "FLCMov59a2RD",
        "outputId": "ec512248-d0f6-4d33-9918-f243dcd5821e"
      },
      "outputs": [
        {
          "data": {
            "text/plain": [
              "<seaborn.axisgrid.FacetGrid at 0x25508f02d00>"
            ]
          },
          "execution_count": 316,
          "metadata": {},
          "output_type": "execute_result"
        },
        {
          "data": {
            "image/png": "[encoded data removed]",
            "text/plain": [
              "<Figure size 360x360 with 1 Axes>"
            ]
          },
          "metadata": {
            "needs_background": "light"
          },
          "output_type": "display_data"
        }
      ],
      "source": [
        "#let's now create another visualization, and this will be a histogram for the distribution of the residuals, we can do this by saying: \n",
        "sns.displot((y_test - predictions))\n",
        "#remember that the residuals are just the difference between the actual values (which is y_test) and the predicted values (which is predictions array)\n",
        "#here we can see a histogram of our residuals, and it is somewhat normally distributed, so our model didn't perform too bad with it's predictions, but maybe a different regression model may be better suited for our dataset "
      ]
    },
    {
      "cell_type": "code",
      "execution_count": 317,
      "metadata": {
        "id": "QKB99d9Oa2RD"
      },
      "outputs": [],
      "source": [
        "#let's now move on to our final topic, which is regression evaluation metrics \n",
        "#let's first start off with the import, which is: \n",
        "from sklearn import metrics"
      ]
    },
    {
      "cell_type": "code",
      "execution_count": 318,
      "metadata": {
        "id": "jdUouLXiZMjb"
      },
      "outputs": [],
      "source": [
        "#to give a brief summary about regression evaluation metrics:\n",
        "#regression evaluation metrics are just variations of the difference between the actual true values and the predicted values (basically, they're just maniplulations of this difference)\n",
        "\n",
        "#the three most common evaluation metrics for regression problems are mean absolute error or MAE (which is the mean of the absolute value of the error/residual), mean squared error (which is the mean of the squared error), \n",
        "#and root mean squared error (which is the square root of the mean of the squared errors)\n"
      ]
    },
    {
      "cell_type": "code",
      "execution_count": 319,
      "metadata": {
        "colab": {
          "base_uri": "https://localhost:8080/"
        },
        "id": "99SvHqPpa2RD",
        "outputId": "7c8e5f7a-03e8-4c7b-90ef-4d8b6342ecc7"
      },
      "outputs": [
        {
          "data": {
            "text/plain": [
              "3.9051448026275084"
            ]
          },
          "execution_count": 319,
          "metadata": {},
          "output_type": "execute_result"
        }
      ],
      "source": [
        "#let's start of with MAE: MAE is basically just the average error. We can obtain it by passing in our y_test and predictions array into the mean absolute error function. Let's do this by saying:\n",
        "metrics.mean_absolute_error(y_test, predictions)\n",
        "#there you go, that's the mean absolute error"
      ]
    },
    {
      "cell_type": "code",
      "execution_count": 320,
      "metadata": {
        "colab": {
          "base_uri": "https://localhost:8080/"
        },
        "id": "gIKMfB6Qa2RD",
        "outputId": "0dc984f4-91d2-4bdb-dc96-22e34b774a65"
      },
      "outputs": [
        {
          "data": {
            "text/plain": [
              "29.416365467452838"
            ]
          },
          "execution_count": 320,
          "metadata": {},
          "output_type": "execute_result"
        }
      ],
      "source": [
        "#MSE, on the other hand, is more popular than MAE because MSE punishes larger errors (this is because it takes larger errors into account because it's squaring the errors)\n",
        "#this is usually more applicable and useful for real-world applications where we want to prevent large errors as much as possible\n",
        "#We can obtain the MSE similarly to the MAE by passing in:\n",
        "metrics.mean_squared_error(y_test, predictions)"
      ]
    },
    {
      "cell_type": "code",
      "execution_count": 321,
      "metadata": {
        "colab": {
          "base_uri": "https://localhost:8080/"
        },
        "id": "ePa8EkaZa2RE",
        "outputId": "43ad82e6-1861-487d-b0e3-31d810f679a5"
      },
      "outputs": [
        {
          "data": {
            "text/plain": [
              "5.423685598138302"
            ]
          },
          "execution_count": 321,
          "metadata": {},
          "output_type": "execute_result"
        }
      ],
      "source": [
        "#RMSE is also really popular because you can directly interpret it with your target variable\n",
        "#We can obtain the RMSE by passing in:\n",
        "np.sqrt(metrics.mean_squared_error(y_test, predictions))"
      ]
    },
    {
      "cell_type": "code",
      "execution_count": 322,
      "metadata": {
        "id": "IOfANbYDi2jA"
      },
      "outputs": [],
      "source": [
        "#ultimately, all these regression evaluation metrics are loss funtion bcause we want to minize them as much as possible to optimize our model's performance \n",
        "\n",
        "#and that is the end of this video! Congratulations on your first real-world implementation of linear regression. I hope you were able to learn and get a lot out of these lectures, and I wish you good luck in your ML journey. "
      ]
    },
    {
      "cell_type": "code",
      "execution_count": 324,
      "metadata": {},
      "outputs": [],
      "source": [
        "# metrics.confusion_matrix(,y_test, predictions)\n",
        "# Not apllicable in Case of regression because there are mo rigid values"
      ]
    }
  ],
  "metadata": {
    "colab": {
      "collapsed_sections": [],
      "name": "11 - Linear Regression.ipynb",
      "provenance": []
    },
    "interpreter": {
      "hash": "1fb457075518da48b6f10d6a89d1c79a5d3a8a4cce5ab48738750cf0a5c90cbc"
    },
    "kernelspec": {
      "display_name": "Python 3.9.6 64-bit",
      "name": "python3"
    },
    "language_info": {
      "codemirror_mode": {
        "name": "ipython",
        "version": 3
      },
      "file_extension": ".py",
      "mimetype": "text/x-python",
      "name": "python",
      "nbconvert_exporter": "python",
      "pygments_lexer": "ipython3",
      "version": "3.9.6"
    }
  },
  "nbformat": 4,
  "nbformat_minor": 0
}
